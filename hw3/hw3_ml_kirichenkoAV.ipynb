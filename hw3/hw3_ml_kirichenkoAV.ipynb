{
  "cells": [
    {
      "cell_type": "markdown",
      "metadata": {
        "id": "-e0JoY0KayY8"
      },
      "source": [
        "### Машинное обучение\n",
        "## Домашнее задание №3 - Градиентный бустинг"
      ]
    },
    {
      "cell_type": "markdown",
      "metadata": {
        "id": "TOiEV-3wayY-"
      },
      "source": [
        "**Общая информация**\n",
        "\n",
        "**Срок сдачи:** 5 декабря 2023, 23:59   \n",
        "**Штраф за опоздание:** -2 балла за каждые сутки\n",
        "\n",
        "Используйте данный Ipython Notebook при оформлении домашнего задания."
      ]
    },
    {
      "cell_type": "markdown",
      "metadata": {
        "id": "cbBLiJf-ayY_"
      },
      "source": [
        "##  Считаем производные для функций потерь (1 балл)"
      ]
    },
    {
      "cell_type": "markdown",
      "metadata": {
        "id": "V4HLlFkXayY_"
      },
      "source": [
        "Мы будем реализовать градиентный бустинг для 3 функций потерь:\n",
        "\n",
        "1) MSE  $L(a(x_i), y_i) = (y_i - a(x_i)) ^ 2$\n",
        "\n",
        "2) Экспоненциальная  $L(a(x_i), y_i) = exp( -a(x_i) y_i), y_i \\in \\{-1, 1\\}$\n",
        "\n",
        "3) Логистическая  $L(a(x_i), y_i) = \\log (1 + exp( -a(x_i) y_i)), y_i \\in \\{-1, 1\\}$\n",
        "\n",
        "где $a(x_i)$ предсказание бустинга на итом объекте.\n",
        "\n",
        "Для каждой функции потерь напишите таргет, на который будет настраиваться каждое дерево в бустинге."
      ]
    },
    {
      "cell_type": "markdown",
      "metadata": {
        "id": "m9DZ69eCayY_"
      },
      "source": [
        "Ваше решение тут"
      ]
    },
    {
      "cell_type": "code",
      "source": [
        "def mse_loss(targets, predictions):\n",
        "    return np.mean((targets - predictions) ** 2)\n",
        "\n",
        "def mse_loss_gradients(targets, predictions):\n",
        "    return -2 * targets * (targets - predictions)\n",
        "\n",
        "def exp_loss(targets, predictions):\n",
        "    return np.mean(-targets / np.exp(targets * predictions))\n",
        "\n",
        "def exp_loss_gradients(targets, predictions):\n",
        "    return -targets / np.exp(targets * predictions)\n",
        "\n",
        "def log_loss(targets, predictions):\n",
        "    return np.mean(np.log(1 + np.exp(-targets * predictions)))\n",
        "\n",
        "def log_loss_gradients(targets, predictions):\n",
        "    return -targets / np.exp(targets * predictions + 1)"
      ],
      "metadata": {
        "id": "Dlktm5ggdX6U"
      },
      "execution_count": 22,
      "outputs": []
    },
    {
      "cell_type": "markdown",
      "metadata": {
        "id": "-6vTaNgNayY_"
      },
      "source": [
        "##  Реализуем градиентный бустинг (3 балла)"
      ]
    },
    {
      "cell_type": "markdown",
      "metadata": {
        "id": "MqvWwBgmayZA"
      },
      "source": [
        "Реализуйте класс градиентного бустинга для классификации. Ваша реализация бустинга должна работать по точности не более чем на 5 процентов хуже чем GradientBoostingClassifier из sklearn.\n"
      ]
    },
    {
      "cell_type": "markdown",
      "metadata": {
        "id": "iXoi7XkwayZA"
      },
      "source": [
        "Детали реализации:\n",
        "\n",
        "-- должно поддерживаться 3 функции потерь\n",
        "\n",
        "-- сами базовые алгоритмы(деревья, линейные модели и тп) реализовать не надо, просто возьмите готовые из sklearn\n",
        "\n",
        "-- в качестве функции потерь для построения одного дерева используйте MSE\n",
        "\n",
        "-- шаг в бустинге можно не подбирать, можно брать константный\n",
        "\n",
        "-- можно брать разные модели в качестве инициализации бустинга\n",
        "\n",
        "-- должны поддерживаться следующие параметры:\n",
        "\n",
        "а) число итераций\n",
        "б) размер шага\n",
        "в) процент случайных фичей при построении одного дерева\n",
        "д) процент случайных объектов при построении одного дерева\n",
        "е) параметры базового алгоритма (передавайте через **kwargs)"
      ]
    },
    {
      "cell_type": "code",
      "execution_count": 6,
      "metadata": {
        "collapsed": true,
        "jupyter": {
          "outputs_hidden": true
        },
        "id": "vOZKHFElayZA"
      },
      "outputs": [],
      "source": [
        "import numpy as np\n",
        "\n",
        "from sklearn.datasets import load_wine\n",
        "from sklearn.ensemble import GradientBoostingClassifier\n",
        "from sklearn.metrics import accuracy_score\n",
        "from sklearn.model_selection import train_test_split\n",
        "from sklearn.tree import DecisionTreeRegressor\n",
        "from tqdm.auto import tqdm"
      ]
    },
    {
      "cell_type": "code",
      "execution_count": 20,
      "metadata": {
        "collapsed": true,
        "jupyter": {
          "outputs_hidden": true
        },
        "id": "LPullC73ayZA"
      },
      "outputs": [],
      "source": [
        "# class MyGradientBoostingClassifier:\n",
        "\n",
        "#     def __init__(self, loss, learning_rate, n_estimators, colsample, subsample, *args, **kwargs):\n",
        "#         \"\"\"\n",
        "#         loss -- один из 3 лоссов:\n",
        "#         learning_rate -- шаг бустинга\n",
        "#         n_estimators -- число итераций\n",
        "#         colsample -- процент рандомных признаков при обучнеии одного алгоритма\n",
        "#         colsample -- процент рандомных объектов при обучнеии одного алгоритма\n",
        "#         args, kwargs -- параметры  базовых моделей\n",
        "#         \"\"\"\n",
        "#         # Ваш код здесь\n",
        "#         if loss == 'MSE':\n",
        "#             self.loss = mse_loss\n",
        "#             self.grad = mse_loss_gradients\n",
        "\n",
        "#         elif loss == 'Exponential':\n",
        "#             self.loss = exp_loss\n",
        "#             self.grad = exp_loss_gradients\n",
        "\n",
        "#         elif loss == 'LogLoss':\n",
        "#             self.loss = log_loss\n",
        "#             self.grad = log_loss_gradients\n",
        "\n",
        "#         self.lr = learning_rate\n",
        "#         self.n_estimators = n_estimators\n",
        "#         self.colsample = colsample\n",
        "#         self.subsample = subsample\n",
        "#         self.base_algo_params = kwargs\n",
        "\n",
        "#     def fit(self, X, y, base_model, init_model=None):\n",
        "#         \"\"\"\n",
        "#         X -- объекты для обучения:\n",
        "#         y -- таргеты для обучения\n",
        "#         base_model -- класс базовых моделей, например sklearn.tree.DecisionTreeRegressor\n",
        "#         init_model -- класс для первой модели, если None то берем константу (только для посл задания)\n",
        "#         \"\"\"\n",
        "#         # Ваш код здесь\n",
        "\n",
        "#         if init_model is None:\n",
        "#             self.class_count = len(np.unique(y))\n",
        "#             new_y = np.zeros((len(y), self.class_count))\n",
        "#             for i in range(len(y)):\n",
        "#                 new_y[i][y[i]] = 1\n",
        "\n",
        "#         else:\n",
        "#             init_model = init_model()\n",
        "#             init_model.fit(X, y)\n",
        "#             new_y = init_model.predict(X)\n",
        "\n",
        "#         self.models_list = []\n",
        "#         self.losses = []\n",
        "\n",
        "#         for step in range(self.n_estimators):\n",
        "#             models_layer = []\n",
        "#             for class_num in range(self.class_count):\n",
        "#                 model = base_model()\n",
        "#                 models_layer.append(model.fit(X, new_y[:, class_num]))\n",
        "\n",
        "#             self.models_list.append(models_layer)\n",
        "#             self.predict(X)\n",
        "\n",
        "#             self.losses.append(self.loss(new_y, self.pred_fit))\n",
        "#             gradients = self.grad(new_y, self.pred_fit)\n",
        "#             new_y = - gradients\n",
        "\n",
        "\n",
        "\n",
        "#         return self\n",
        "\n",
        "#     def predict(self, X):\n",
        "#         predictions = np.zeros((len(X), self.class_count))\n",
        "#         for layer in range(len(self.models_list)):\n",
        "#             for model_num in range(self.class_count):\n",
        "#                 predictions[:, model_num] += self.models_list[layer][model_num].predict(X) * self.lr\n",
        "\n",
        "#         self.pred_fit = predictions\n",
        "\n",
        "#         predictions = np.argmax(predictions, axis=1)\n",
        "\n",
        "#         return predictions\n",
        "\n",
        "class ModelsAnsemble:\n",
        "    def __init__(self):\n",
        "\n",
        "        self.models_list = []\n",
        "\n",
        "    def add_models_layer(self, fitted_layer):\n",
        "\n",
        "        self.models_list.append(fitted_layer)\n",
        "\n",
        "\n",
        "class MyGradientBoostingClassifier:\n",
        "    def __init__(self, loss, learning_rate, n_estimators, subsample=None, colsample=1.0, *args, **kwargs):\n",
        "        \"\"\"\n",
        "        loss -- один из 3 лоссов:\n",
        "        learning_rate -- шаг бустинга\n",
        "        n_estimators -- число итераций\n",
        "        colsample -- процент рандомных признаков при обучнеии одного алгоритма\n",
        "        colsample -- процент рандомных объектов при обучнеии одного алгоритма\n",
        "        args, kwargs -- параметры  базовых моделей\n",
        "        \"\"\"\n",
        "        # Ваш код здесь\n",
        "        if loss == 'MSE':\n",
        "            self.loss = mse_loss\n",
        "            self.grad = mse_loss_gradients\n",
        "\n",
        "        elif loss == 'Exponential':\n",
        "            self.loss = exp_loss\n",
        "            self.grad = exp_loss_gradients\n",
        "\n",
        "        elif loss == 'LogLoss':\n",
        "            self.loss = log_loss\n",
        "            self.grad = log_loss_gradients\n",
        "\n",
        "        self.lr = learning_rate\n",
        "        self.n_estimators = n_estimators\n",
        "        self.colsample = colsample\n",
        "        self.subsample = subsample\n",
        "        self.args = args\n",
        "        self.base_algo_params = kwargs\n",
        "\n",
        "    def fit(self, X, y, base_model, init_model=None):\n",
        "        \"\"\"\n",
        "        X -- объекты для обучения:\n",
        "        y -- таргеты для обучения\n",
        "        base_model -- класс базовых моделей, например sklearn.tree.DecisionTreeRegressor\n",
        "        init_model -- класс для первой модели, если None то берем константу (только для посл задания)\n",
        "        \"\"\"\n",
        "        # Ваш код здесь\n",
        "        # X = np.array(X)\n",
        "        rows_count, cols_count = X.shape\n",
        "        self.class_names, class_counts = np.unique(y, return_counts=True)\n",
        "\n",
        "        y_ohe = np.zeros((len(y), len(self.class_names)))\n",
        "        for i in range(len(y)):\n",
        "            y_ohe[i][y[i]] = 1\n",
        "\n",
        "        y_prob = class_counts / np.sum(class_counts)\n",
        "\n",
        "        if init_model is None:\n",
        "            self.start_y = []\n",
        "            for i in range(len(y)):\n",
        "                self.start_y.append(y_prob)\n",
        "\n",
        "        else:\n",
        "            init_model = init_model()\n",
        "            init_model.fit(X, y)\n",
        "            self.start_y = init_model.predict_proba(X)\n",
        "\n",
        "        if self.subsample:\n",
        "            n_subsamples = int(self.subsample * rows_count)\n",
        "        n_colsamples = int(self.colsample * cols_count)\n",
        "        new_y = self.start_y\n",
        "\n",
        "        self.models_ansemble = ModelsAnsemble()\n",
        "        for step in range(self.n_estimators):\n",
        "            gradient = -self.grad(y_ohe, new_y)\n",
        "            models_list = []\n",
        "\n",
        "            if self.subsample:\n",
        "                subsamples = np.random.choice(np.arange(rows_count), size=n_subsamples, replace=True)\n",
        "            else:\n",
        "                subsamples = np.arange(X.shape[0])\n",
        "\n",
        "            colsamples = np.random.choice(cols_count, size=n_colsamples, replace=False)\n",
        "            X_samp = X[subsamples, :][:, colsamples]\n",
        "            y_samp = gradient[subsamples, :]\n",
        "\n",
        "            test_pred = []\n",
        "\n",
        "            for i in range(len(self.class_names)):\n",
        "                estimator = base_model(*self.args, **self.base_algo_params)\n",
        "\n",
        "                estimator.fit(X_samp, y_samp[:, i])\n",
        "\n",
        "                models_list.append(estimator)\n",
        "\n",
        "            self.models_ansemble.add_models_layer((models_list, colsamples))\n",
        "\n",
        "            new_y += self.lr * self.layer_predict((models_list, colsamples), X_samp)\n",
        "\n",
        "    def layer_predict(self, models_list, X):\n",
        "        models_list, colsamples = models_list[0], models_list[1]\n",
        "        X_samp = X[:, colsamples]\n",
        "        preds = np.zeros((len(X_samp), len(models_list)))\n",
        "        for i in range(len(models_list)):\n",
        "            preds[:, i] = models_list[i].predict(X_samp)\n",
        "        return preds\n",
        "\n",
        "    def predict(self, X):\n",
        "        pred = np.zeros((len(X), len(self.class_names)))\n",
        "        pred += np.array(self.start_y[:len(X)]) * self.lr\n",
        "\n",
        "        for model_layer in self.models_ansemble.models_list:\n",
        "            pred += self.layer_predict(model_layer, X) * self.lr\n",
        "\n",
        "        # print(pred)\n",
        "\n",
        "        return np.argmax(pred, axis=1)"
      ]
    },
    {
      "cell_type": "code",
      "execution_count": 702,
      "metadata": {
        "id": "DR_-ijHuayZB"
      },
      "outputs": [],
      "source": [
        "my_clf = MyGradientBoostingClassifier('LogLoss', 0.1, 5, max_depth=2)\n",
        "clf = GradientBoostingClassifier()"
      ]
    },
    {
      "cell_type": "code",
      "execution_count": 627,
      "metadata": {
        "collapsed": true,
        "jupyter": {
          "outputs_hidden": true
        },
        "id": "C9oMApR4ayZB"
      },
      "outputs": [],
      "source": [
        "wine = load_wine()\n",
        "X_train, X_test, y_train, y_test = train_test_split(wine.data, wine.target, test_size=0.1, stratify=wine.target)"
      ]
    },
    {
      "cell_type": "code",
      "source": [
        "my_clf.fit(X_train, y_train, DecisionTreeRegressor)\n",
        "pred = my_clf.predict(X_test)"
      ],
      "metadata": {
        "id": "IPMLVcmO_t2g"
      },
      "execution_count": 703,
      "outputs": []
    },
    {
      "cell_type": "code",
      "source": [
        "pred"
      ],
      "metadata": {
        "colab": {
          "base_uri": "https://localhost:8080/"
        },
        "id": "7nBkhWd1Gax-",
        "outputId": "d5c0a26c-1ec4-4111-a641-c89fa8f7b611"
      },
      "execution_count": 706,
      "outputs": [
        {
          "output_type": "execute_result",
          "data": {
            "text/plain": [
              "array([0, 2, 0, 2, 0, 2, 1, 0, 0, 0, 2, 0, 1, 1, 1, 1, 1, 1])"
            ]
          },
          "metadata": {},
          "execution_count": 706
        }
      ]
    },
    {
      "cell_type": "code",
      "source": [
        "y_test"
      ],
      "metadata": {
        "colab": {
          "base_uri": "https://localhost:8080/"
        },
        "id": "rL24UXGuN15L",
        "outputId": "4660bf05-e57e-4379-dfc2-06cd92ac4e4a"
      },
      "execution_count": 707,
      "outputs": [
        {
          "output_type": "execute_result",
          "data": {
            "text/plain": [
              "array([0, 2, 1, 2, 0, 2, 1, 0, 0, 0, 2, 0, 1, 1, 1, 2, 1, 1])"
            ]
          },
          "metadata": {},
          "execution_count": 707
        }
      ]
    },
    {
      "cell_type": "code",
      "execution_count": 708,
      "metadata": {
        "colab": {
          "base_uri": "https://localhost:8080/"
        },
        "id": "dkE1-5cdayZB",
        "outputId": "442cb003-d492-4c72-ab73-a1485549dae2"
      },
      "outputs": [
        {
          "output_type": "stream",
          "name": "stdout",
          "text": [
            "0.8888888888888888\n",
            "0.8888888888888888\n"
          ]
        }
      ],
      "source": [
        "my_clf.fit(X_train, y_train, DecisionTreeRegressor)\n",
        "clf.fit(X_train, y_train)\n",
        "print(accuracy_score(y_pred=clf.predict(X_test), y_true=y_test))\n",
        "print(accuracy_score(y_pred=my_clf.predict(X_test), y_true=y_test))"
      ]
    },
    {
      "cell_type": "markdown",
      "metadata": {
        "id": "CbCwunTXayZB"
      },
      "source": [
        "## Подбираем параметры (2 балла)\n",
        "\n",
        "Давайте попробуем применить Ваш бустинг для предсказаний цены домов в Калифорнии. Чтобы можно было попробовтаь разные функции потерь, переведем по порогу таргет в 2 класса: дорогие и дешевые дома."
      ]
    },
    {
      "cell_type": "markdown",
      "metadata": {
        "id": "IPzEf-vFayZB"
      },
      "source": [
        "В задании нужно\n",
        "\n",
        "1) Построить график точности в зависимости от числа итераций на валидации.\n",
        "\n",
        "2) Подобрать оптимальные параметры Вашего бустинга на валидации.\n"
      ]
    },
    {
      "cell_type": "code",
      "execution_count": 8,
      "metadata": {
        "id": "JaqhFQFuayZB"
      },
      "outputs": [],
      "source": [
        "from sklearn.datasets import fetch_california_housing\n",
        "X, y = fetch_california_housing(return_X_y=True)"
      ]
    },
    {
      "cell_type": "code",
      "execution_count": 9,
      "metadata": {
        "colab": {
          "base_uri": "https://localhost:8080/"
        },
        "id": "ih8geN9fayZB",
        "outputId": "b44f621b-8806-4625-fe6f-1e0855fd4880"
      },
      "outputs": [
        {
          "output_type": "stream",
          "name": "stdout",
          "text": [
            "(20640, 8) (20640,)\n"
          ]
        }
      ],
      "source": [
        "# Превращаем регрессию в классификацию\n",
        "y = (y > 2.0).astype(int)\n",
        "print(X.shape, y.shape)"
      ]
    },
    {
      "cell_type": "code",
      "execution_count": 10,
      "metadata": {
        "collapsed": true,
        "jupyter": {
          "outputs_hidden": true
        },
        "id": "2PIpu_KaayZB"
      },
      "outputs": [],
      "source": [
        "X_train, X_test, y_train, y_test = train_test_split(X, y, test_size=0.2)"
      ]
    },
    {
      "cell_type": "code",
      "source": [
        "losses = ['Exponential', 'MSE', 'LogLoss']\n",
        "exp_acc = {'test': [],\n",
        "           'train': []}\n",
        "log_acc = {'test': [],\n",
        "           'train': []}\n",
        "mse_acc = {'test': [],\n",
        "           'train': []}\n",
        "for iteration in tqdm(range(1, 200, 10)):\n",
        "    my_clf = MyGradientBoostingClassifier('MSE', 0.2, iteration, 1, 1, max_depth=6)\n",
        "    my_clf.fit(X_train, y_train, DecisionTreeRegressor)\n",
        "    mse_acc['test'].append(accuracy_score(y_pred=my_clf.predict(X_test), y_true=y_test))\n",
        "    mse_acc['train'].append(accuracy_score(y_pred=my_clf.predict(X_train), y_true=y_train))\n",
        "\n",
        "    my_clf = MyGradientBoostingClassifier('Exponential', 0.2, iteration, 1, 1, max_depth=6)\n",
        "    my_clf.fit(X_train, y_train, DecisionTreeRegressor)\n",
        "    exp_acc['test'].append(accuracy_score(y_pred=my_clf.predict(X_test), y_true=y_test))\n",
        "    exp_acc['train'].append(accuracy_score(y_pred=my_clf.predict(X_train), y_true=y_train))\n",
        "\n",
        "    my_clf = MyGradientBoostingClassifier('LogLoss', 0.2, iteration, 1, 1, max_depth=6)\n",
        "    my_clf.fit(X_train, y_train, DecisionTreeRegressor)\n",
        "    log_acc['test'].append(accuracy_score(y_pred=my_clf.predict(X_test), y_true=y_test))\n",
        "    log_acc['train'].append(accuracy_score(y_pred=my_clf.predict(X_train), y_true=y_train))"
      ],
      "metadata": {
        "colab": {
          "base_uri": "https://localhost:8080/",
          "height": 49,
          "referenced_widgets": [
            "b0b5486c81214007a204553791918f7e",
            "1fe506bbebbd470da41b170eb4308217",
            "86a1f36b5e5a40ca931a5f66261ad282",
            "6d4db1d4263a496291413eefe099c52d",
            "894ac139c3df4cb680990cfee5253fa7",
            "f2f213080e794ec2b59ad24737497578",
            "260ac9fccd36418780a6230b03cd8665",
            "b7c6e293f2a9475f9f3015fd3c6f6853",
            "bb9cba9e736c40c58c4f47a087af1fee",
            "2cd344189a5d4839b49c2bbb387e9319",
            "9761ec5b690a4214a7cb80b56e355e07"
          ]
        },
        "id": "aQW1HVy9Yi7z",
        "outputId": "eecfa8e7-2641-490f-944c-57af3e1d5695"
      },
      "execution_count": 727,
      "outputs": [
        {
          "output_type": "display_data",
          "data": {
            "text/plain": [
              "  0%|          | 0/20 [00:00<?, ?it/s]"
            ],
            "application/vnd.jupyter.widget-view+json": {
              "version_major": 2,
              "version_minor": 0,
              "model_id": "b0b5486c81214007a204553791918f7e"
            }
          },
          "metadata": {}
        }
      ]
    },
    {
      "cell_type": "code",
      "source": [
        "import matplotlib.pyplot as plt\n",
        "x = [i for i in range(1, 200, 10)]\n",
        "\n",
        "print(mse_acc['test'])\n",
        "\n",
        "plt.plot(x, mse_acc['test'], x, mse_acc['train'])"
      ],
      "metadata": {
        "colab": {
          "base_uri": "https://localhost:8080/",
          "height": 504
        },
        "id": "-SjD-lMzfugf",
        "outputId": "8e1eb576-4e7d-4d8b-8011-56c8dd993cfb"
      },
      "execution_count": 728,
      "outputs": [
        {
          "output_type": "stream",
          "name": "stdout",
          "text": [
            "[0.8275193798449613, 0.8551356589147286, 0.8556201550387597, 0.8083817829457365, 0.7790697674418605, 0.657218992248062, 0.6836240310077519, 0.7078488372093024, 0.84375, 0.8524709302325582, 0.8502906976744186, 0.751453488372093, 0.7538759689922481, 0.8267926356589147, 0.8074127906976745, 0.6322674418604651, 0.39292635658914726, 0.8500484496124031, 0.5729166666666666, 0.280765503875969]\n"
          ]
        },
        {
          "output_type": "execute_result",
          "data": {
            "text/plain": [
              "[<matplotlib.lines.Line2D at 0x784451fcf790>,\n",
              " <matplotlib.lines.Line2D at 0x784451fcf7f0>]"
            ]
          },
          "metadata": {},
          "execution_count": 728
        },
        {
          "output_type": "display_data",
          "data": {
            "text/plain": [
              "<Figure size 640x480 with 1 Axes>"
            ],
            "image/png": "[encoded data removed]"
          },
          "metadata": {}
        }
      ]
    },
    {
      "cell_type": "code",
      "source": [
        "plt.plot(x, log_acc['test'], x, log_acc['train'])"
      ],
      "metadata": {
        "colab": {
          "base_uri": "https://localhost:8080/",
          "height": 466
        },
        "id": "kgIwI7v5TAXY",
        "outputId": "1bbf4be5-d1d9-4be1-f000-c8ded80c3b83"
      },
      "execution_count": 729,
      "outputs": [
        {
          "output_type": "execute_result",
          "data": {
            "text/plain": [
              "[<matplotlib.lines.Line2D at 0x784451e7a7a0>,\n",
              " <matplotlib.lines.Line2D at 0x784451e7a800>]"
            ]
          },
          "metadata": {},
          "execution_count": 729
        },
        {
          "output_type": "display_data",
          "data": {
            "text/plain": [
              "<Figure size 640x480 with 1 Axes>"
            ],
            "image/png": "[encoded data removed]"
          },
          "metadata": {}
        }
      ]
    },
    {
      "cell_type": "code",
      "source": [
        "plt.plot(x, exp_acc['test'], x, exp_acc['train'])"
      ],
      "metadata": {
        "colab": {
          "base_uri": "https://localhost:8080/",
          "height": 466
        },
        "id": "s3gYTNtDTB8s",
        "outputId": "cf066852-081c-4640-9a48-3b33e410b9c8"
      },
      "execution_count": 730,
      "outputs": [
        {
          "output_type": "execute_result",
          "data": {
            "text/plain": [
              "[<matplotlib.lines.Line2D at 0x784451efef80>,\n",
              " <matplotlib.lines.Line2D at 0x784451efefe0>]"
            ]
          },
          "metadata": {},
          "execution_count": 730
        },
        {
          "output_type": "display_data",
          "data": {
            "text/plain": [
              "<Figure size 640x480 with 1 Axes>"
            ],
            "image/png": "[encoded data removed]"
          },
          "metadata": {}
        }
      ]
    },
    {
      "cell_type": "code",
      "source": [
        "max(log_acc['test'])"
      ],
      "metadata": {
        "colab": {
          "base_uri": "https://localhost:8080/"
        },
        "id": "LSXuwsvlYaK7",
        "outputId": "cfb25fa5-a3b1-4237-d728-063a682dc026"
      },
      "execution_count": 738,
      "outputs": [
        {
          "output_type": "execute_result",
          "data": {
            "text/plain": [
              "0.8594961240310077"
            ]
          },
          "metadata": {},
          "execution_count": 738
        }
      ]
    },
    {
      "cell_type": "markdown",
      "source": [
        "Оптимально использовать Логистическую функцию потерь и 55 итераций"
      ],
      "metadata": {
        "id": "42xW6qScXuE1"
      }
    },
    {
      "cell_type": "markdown",
      "metadata": {
        "id": "1w87o0lDayZB"
      },
      "source": [
        "## BooBag BagBoo (1 балл)\n",
        "\n"
      ]
    },
    {
      "cell_type": "markdown",
      "metadata": {
        "id": "hJWhR3W8ayZC"
      },
      "source": [
        "Попробуем объединить бустинг и бэгинг. Давайте\n",
        "\n",
        "1) в качестве базовой модели брать не дерево решений, а случайный лес (из sklearn)\n",
        "\n",
        "2) обучать N бустингов на бустрапированной выборке, а затем предикт усреднять"
      ]
    },
    {
      "cell_type": "markdown",
      "metadata": {
        "id": "XgbcCqq9ayZC"
      },
      "source": [
        "Попробуйте обе этих стратегии на данных из прошлого задания. Получилось ли улучшить качество? Почему?"
      ]
    },
    {
      "cell_type": "code",
      "execution_count": 756,
      "metadata": {
        "collapsed": true,
        "jupyter": {
          "outputs_hidden": true
        },
        "id": "TWN37SmUayZC"
      },
      "outputs": [],
      "source": [
        "from sklearn.ensemble import RandomForestRegressor\n",
        "\n",
        "my_clf = MyGradientBoostingClassifier('LogLoss', 0.2, 50, 1, 1, max_depth=8)\n",
        "my_clf.fit(X_train, y_train, RandomForestRegressor)\n",
        "\n",
        "pred = my_clf.predict(X_test)"
      ]
    },
    {
      "cell_type": "code",
      "execution_count": 757,
      "metadata": {
        "collapsed": true,
        "jupyter": {
          "outputs_hidden": true
        },
        "colab": {
          "base_uri": "https://localhost:8080/"
        },
        "id": "Z_SfiAwSayZC",
        "outputId": "8c82d8c0-571c-4d9a-8ad6-30469925f4af"
      },
      "outputs": [
        {
          "output_type": "execute_result",
          "data": {
            "text/plain": [
              "0.8694282945736435"
            ]
          },
          "metadata": {},
          "execution_count": 757
        }
      ],
      "source": [
        "accuracy_score(y_pred=my_clf.predict(X_test), y_true=y_test)"
      ]
    },
    {
      "cell_type": "code",
      "source": [
        "size = len(X_train)\n",
        "idxs = np.arange(size)\n",
        "bootstrap_samples = [np.random.choice(idxs, size=size, replace=True) for i in range(40)]\n",
        "accs = []\n",
        "for sample in tqdm(bootstrap_samples):\n",
        "    X_sample = X_train[sample]\n",
        "    y_sample = y_train[sample]\n",
        "    my_clf = MyGradientBoostingClassifier('LogLoss', 0.2, 80, 1, 1, max_depth=8)\n",
        "    my_clf.fit(X_sample, y_sample, DecisionTreeRegressor)\n",
        "    accs.append(accuracy_score(y_pred=my_clf.predict(X_test), y_true=y_test))\n",
        "\n",
        "np.mean(accs)"
      ],
      "metadata": {
        "colab": {
          "base_uri": "https://localhost:8080/",
          "height": 67,
          "referenced_widgets": [
            "643f80de25b14050988d49bce8f1e8a4",
            "60e90d7ac95d40c8971a69c200033659",
            "3b7bdca472324da09d83a68d0ced1a8a",
            "a4cefd03ea9b42cdbb3bd273f68e7427",
            "425efab48082430ebee11d28a2e59df0",
            "15bf0cf052a84cd09043216cf0da1be5",
            "175f4d4294184a069cffff73e947af91",
            "7f8ca0e9eb2e477ea75178ddf855bfe7",
            "8338e6fab1524b87a37717bc6a77cd9b",
            "bccdee7987534a5aa7a3085ced106825",
            "63eb16f78f51453b9b270315270d2c65"
          ]
        },
        "id": "q-0zVNpkfWyE",
        "outputId": "56793460-41f3-4974-ba60-9f3f249d8412"
      },
      "execution_count": 758,
      "outputs": [
        {
          "output_type": "display_data",
          "data": {
            "text/plain": [
              "  0%|          | 0/40 [00:00<?, ?it/s]"
            ],
            "application/vnd.jupyter.widget-view+json": {
              "version_major": 2,
              "version_minor": 0,
              "model_id": "643f80de25b14050988d49bce8f1e8a4"
            }
          },
          "metadata": {}
        },
        {
          "output_type": "execute_result",
          "data": {
            "text/plain": [
              "0.8632873062015504"
            ]
          },
          "metadata": {},
          "execution_count": 758
        }
      ]
    },
    {
      "cell_type": "markdown",
      "source": [
        "Точность получилось улучшить.\n",
        "В первом случае точность улучшилась за счет того, что мы берем модель, которая позволяет нашему алгоритму быстрее сходиться.\n",
        "\n",
        "Во втором случае получается улучшить точность за счет того, что мы обучаем несколько моделей на различных наборах данных и общая точность алгоритма улучшается."
      ],
      "metadata": {
        "id": "urCUdQKUrM1C"
      }
    },
    {
      "cell_type": "markdown",
      "metadata": {
        "collapsed": true,
        "jupyter": {
          "outputs_hidden": true
        },
        "id": "jfTYpNZcayZC"
      },
      "source": [
        "## Умная инициализация (1 балл)\n",
        "\n",
        "Попробуйте брать в качестве инициализации бустинга не константу, а какой-то алгоритм и уже от его предикта стартовать итерации бустинга. Попробуйте разные модели из sklearn: линейные модели, рандом форест, svm..\n",
        "\n",
        "Получилось ли улучшить качество? Почему?\n",
        "\n"
      ]
    },
    {
      "cell_type": "code",
      "execution_count": 27,
      "metadata": {
        "collapsed": true,
        "jupyter": {
          "outputs_hidden": true
        },
        "colab": {
          "base_uri": "https://localhost:8080/",
          "height": 212,
          "referenced_widgets": [
            "9f9c68459e6d43da911e80cbffa75440",
            "5e9df109878a4256bd0e0d51db87984b",
            "0d006a3168ce4c2b9eb3bec9bac19aab",
            "4fe59dc468554d6496e8e47eef90ad8d",
            "fed5102d7a604cea8543662110db8996",
            "d99314160fb34a52ad32067c66cb5bb4",
            "cc01c086325d4fbf9f5765138bba4a49",
            "49e765394da641a3aa9a413f5d28ca1f",
            "3994f513fdd443a9ad7bd905f9c260cd",
            "079c37758b1c41e3a2a7563c25ed95e6",
            "0ae3af9722d64d0ebfbed5b97819d0e6"
          ]
        },
        "id": "DOyyAdFtayZC",
        "outputId": "e51f001c-2ba2-4c26-ae2e-82fb580d0e1f"
      },
      "outputs": [
        {
          "output_type": "display_data",
          "data": {
            "text/plain": [
              "  0%|          | 0/3 [00:00<?, ?it/s]"
            ],
            "application/vnd.jupyter.widget-view+json": {
              "version_major": 2,
              "version_minor": 0,
              "model_id": "9f9c68459e6d43da911e80cbffa75440"
            }
          },
          "metadata": {}
        },
        {
          "output_type": "stream",
          "name": "stderr",
          "text": [
            "/usr/local/lib/python3.10/dist-packages/sklearn/linear_model/_logistic.py:458: ConvergenceWarning: lbfgs failed to converge (status=1):\n",
            "STOP: TOTAL NO. of ITERATIONS REACHED LIMIT.\n",
            "\n",
            "Increase the number of iterations (max_iter) or scale the data as shown in:\n",
            "    https://scikit-learn.org/stable/modules/preprocessing.html\n",
            "Please also refer to the documentation for alternative solver options:\n",
            "    https://scikit-learn.org/stable/modules/linear_model.html#logistic-regression\n",
            "  n_iter_i = _check_optimize_result(\n"
          ]
        }
      ],
      "source": [
        "from sklearn.linear_model import LogisticRegression\n",
        "from sklearn.ensemble import GradientBoostingClassifier\n",
        "from sklearn.neighbors import KNeighborsClassifier\n",
        "\n",
        "models_list = [LogisticRegression,\n",
        "               KNeighborsClassifier,\n",
        "               GradientBoostingClassifier]\n",
        "\n",
        "accs = []\n",
        "\n",
        "for model in tqdm(models_list):\n",
        "    my_clf = MyGradientBoostingClassifier('LogLoss', 0.2, 80, 1, 1, max_depth=8)\n",
        "    my_clf.fit(X_train, y_train, DecisionTreeRegressor, init_model=model)\n",
        "    accs.append(accuracy_score(y_pred=my_clf.predict(X_test), y_true=y_test))"
      ]
    },
    {
      "cell_type": "code",
      "source": [
        "print(accs)"
      ],
      "metadata": {
        "colab": {
          "base_uri": "https://localhost:8080/"
        },
        "id": "cu0E_S4kvAUB",
        "outputId": "c210fd53-7338-478e-ddd6-73f1e0f64196"
      },
      "execution_count": 28,
      "outputs": [
        {
          "output_type": "stream",
          "name": "stdout",
          "text": [
            "[0.8599806201550387, 0.8645833333333334, 0.8561046511627907]\n"
          ]
        }
      ]
    },
    {
      "cell_type": "markdown",
      "source": [
        "Получилось улучшить качество с аналогичными параметрами, так как изначально нашл алгоритм стартует из более выгодной точки, а точнее из какого-то приближения, которое было получено при помощи init_model."
      ],
      "metadata": {
        "id": "x2tErqhPvtn6"
      }
    },
    {
      "cell_type": "markdown",
      "metadata": {
        "id": "6AG9E_wfayZC"
      },
      "source": [
        "## Фидбек (бесценно)"
      ]
    },
    {
      "cell_type": "markdown",
      "metadata": {
        "id": "e_nf8m_layZC"
      },
      "source": [
        "* Какие аспекты обучения  ансамблей Вам показались непонятными? Какое место стоит дополнительно объяснить?\n",
        "\n",
        "Возможно стоит дополнительно объяснить классификацию при помощи градиентного бустинга. Изначально было не совсем понятно, как выполнять домашнее задание\n",
        "\n",
        "На помощь пришли вот эти 2 статьи:\n",
        "\n",
        "* https://scikit-learn.org/stable/modules/ensemble.html#id10\n",
        "\n",
        "* https://habr.com/ru/companies/ods/articles/327250/"
      ]
    },
    {
      "cell_type": "markdown",
      "metadata": {
        "id": "Lcc_faAEayZC"
      },
      "source": [
        "### Ваш ответ здесь"
      ]
    },
    {
      "cell_type": "markdown",
      "metadata": {
        "id": "iJKUAWRJayZC"
      },
      "source": [
        "* Здесь Вы можете оставить отзыв о этой домашней работе или о всем курсе."
      ]
    },
    {
      "cell_type": "markdown",
      "metadata": {
        "id": "aU2iaJuuayZC"
      },
      "source": [
        "### ВАШ ОТЗЫВ ЗДЕСЬ\n",
        "\n"
      ]
    },
    {
      "cell_type": "code",
      "execution_count": null,
      "metadata": {
        "collapsed": true,
        "jupyter": {
          "outputs_hidden": true
        },
        "id": "aZ7IO0ZPayZC"
      },
      "outputs": [],
      "source": []
    },
    {
      "cell_type": "code",
      "execution_count": null,
      "metadata": {
        "collapsed": true,
        "jupyter": {
          "outputs_hidden": true
        },
        "id": "BOKFHb0jayZC"
      },
      "outputs": [],
      "source": []
    }
  ],
  "metadata": {
    "anaconda-cloud": {},
    "kernelspec": {
      "display_name": "Python 3 (ipykernel)",
      "language": "python",
      "name": "python3"
    },
    "language_info": {
      "codemirror_mode": {
        "name": "ipython",
        "version": 3
      },
      "file_extension": ".py",
      "mimetype": "text/x-python",
      "name": "python",
      "nbconvert_exporter": "python",
      "pygments_lexer": "ipython3",
      "version": "3.11.6"
    },
    "colab": {
      "provenance": []
    },
    "widgets": {
      "application/vnd.jupyter.widget-state+json": {
        "b0b5486c81214007a204553791918f7e": {
          "model_module": "@jupyter-widgets/controls",
          "model_name": "HBoxModel",
          "model_module_version": "1.5.0",
          "state": {
            "_dom_classes": [],
            "_model_module": "@jupyter-widgets/controls",
            "_model_module_version": "1.5.0",
            "_model_name": "HBoxModel",
            "_view_count": null,
            "_view_module": "@jupyter-widgets/controls",
            "_view_module_version": "1.5.0",
            "_view_name": "HBoxView",
            "box_style": "",
            "children": [
              "IPY_MODEL_1fe506bbebbd470da41b170eb4308217",
              "IPY_MODEL_86a1f36b5e5a40ca931a5f66261ad282",
              "IPY_MODEL_6d4db1d4263a496291413eefe099c52d"
            ],
            "layout": "IPY_MODEL_894ac139c3df4cb680990cfee5253fa7"
          }
        },
        "1fe506bbebbd470da41b170eb4308217": {
          "model_module": "@jupyter-widgets/controls",
          "model_name": "HTMLModel",
          "model_module_version": "1.5.0",
          "state": {
            "_dom_classes": [],
            "_model_module": "@jupyter-widgets/controls",
            "_model_module_version": "1.5.0",
            "_model_name": "HTMLModel",
            "_view_count": null,
            "_view_module": "@jupyter-widgets/controls",
            "_view_module_version": "1.5.0",
            "_view_name": "HTMLView",
            "description": "",
            "description_tooltip": null,
            "layout": "IPY_MODEL_f2f213080e794ec2b59ad24737497578",
            "placeholder": "​",
            "style": "IPY_MODEL_260ac9fccd36418780a6230b03cd8665",
            "value": "100%"
          }
        },
        "86a1f36b5e5a40ca931a5f66261ad282": {
          "model_module": "@jupyter-widgets/controls",
          "model_name": "FloatProgressModel",
          "model_module_version": "1.5.0",
          "state": {
            "_dom_classes": [],
            "_model_module": "@jupyter-widgets/controls",
            "_model_module_version": "1.5.0",
            "_model_name": "FloatProgressModel",
            "_view_count": null,
            "_view_module": "@jupyter-widgets/controls",
            "_view_module_version": "1.5.0",
            "_view_name": "ProgressView",
            "bar_style": "success",
            "description": "",
            "description_tooltip": null,
            "layout": "IPY_MODEL_b7c6e293f2a9475f9f3015fd3c6f6853",
            "max": 20,
            "min": 0,
            "orientation": "horizontal",
            "style": "IPY_MODEL_bb9cba9e736c40c58c4f47a087af1fee",
            "value": 20
          }
        },
        "6d4db1d4263a496291413eefe099c52d": {
          "model_module": "@jupyter-widgets/controls",
          "model_name": "HTMLModel",
          "model_module_version": "1.5.0",
          "state": {
            "_dom_classes": [],
            "_model_module": "@jupyter-widgets/controls",
            "_model_module_version": "1.5.0",
            "_model_name": "HTMLModel",
            "_view_count": null,
            "_view_module": "@jupyter-widgets/controls",
            "_view_module_version": "1.5.0",
            "_view_name": "HTMLView",
            "description": "",
            "description_tooltip": null,
            "layout": "IPY_MODEL_2cd344189a5d4839b49c2bbb387e9319",
            "placeholder": "​",
            "style": "IPY_MODEL_9761ec5b690a4214a7cb80b56e355e07",
            "value": " 20/20 [15:47&lt;00:00, 82.84s/it]"
          }
        },
        "894ac139c3df4cb680990cfee5253fa7": {
          "model_module": "@jupyter-widgets/base",
          "model_name": "LayoutModel",
          "model_module_version": "1.2.0",
          "state": {
            "_model_module": "@jupyter-widgets/base",
            "_model_module_version": "1.2.0",
            "_model_name": "LayoutModel",
            "_view_count": null,
            "_view_module": "@jupyter-widgets/base",
            "_view_module_version": "1.2.0",
            "_view_name": "LayoutView",
            "align_content": null,
            "align_items": null,
            "align_self": null,
            "border": null,
            "bottom": null,
            "display": null,
            "flex": null,
            "flex_flow": null,
            "grid_area": null,
            "grid_auto_columns": null,
            "grid_auto_flow": null,
            "grid_auto_rows": null,
            "grid_column": null,
            "grid_gap": null,
            "grid_row": null,
            "grid_template_areas": null,
            "grid_template_columns": null,
            "grid_template_rows": null,
            "height": null,
            "justify_content": null,
            "justify_items": null,
            "left": null,
            "margin": null,
            "max_height": null,
            "max_width": null,
            "min_height": null,
            "min_width": null,
            "object_fit": null,
            "object_position": null,
            "order": null,
            "overflow": null,
            "overflow_x": null,
            "overflow_y": null,
            "padding": null,
            "right": null,
            "top": null,
            "visibility": null,
            "width": null
          }
        },
        "f2f213080e794ec2b59ad24737497578": {
          "model_module": "@jupyter-widgets/base",
          "model_name": "LayoutModel",
          "model_module_version": "1.2.0",
          "state": {
            "_model_module": "@jupyter-widgets/base",
            "_model_module_version": "1.2.0",
            "_model_name": "LayoutModel",
            "_view_count": null,
            "_view_module": "@jupyter-widgets/base",
            "_view_module_version": "1.2.0",
            "_view_name": "LayoutView",
            "align_content": null,
            "align_items": null,
            "align_self": null,
            "border": null,
            "bottom": null,
            "display": null,
            "flex": null,
            "flex_flow": null,
            "grid_area": null,
            "grid_auto_columns": null,
            "grid_auto_flow": null,
            "grid_auto_rows": null,
            "grid_column": null,
            "grid_gap": null,
            "grid_row": null,
            "grid_template_areas": null,
            "grid_template_columns": null,
            "grid_template_rows": null,
            "height": null,
            "justify_content": null,
            "justify_items": null,
            "left": null,
            "margin": null,
            "max_height": null,
            "max_width": null,
            "min_height": null,
            "min_width": null,
            "object_fit": null,
            "object_position": null,
            "order": null,
            "overflow": null,
            "overflow_x": null,
            "overflow_y": null,
            "padding": null,
            "right": null,
            "top": null,
            "visibility": null,
            "width": null
          }
        },
        "260ac9fccd36418780a6230b03cd8665": {
          "model_module": "@jupyter-widgets/controls",
          "model_name": "DescriptionStyleModel",
          "model_module_version": "1.5.0",
          "state": {
            "_model_module": "@jupyter-widgets/controls",
            "_model_module_version": "1.5.0",
            "_model_name": "DescriptionStyleModel",
            "_view_count": null,
            "_view_module": "@jupyter-widgets/base",
            "_view_module_version": "1.2.0",
            "_view_name": "StyleView",
            "description_width": ""
          }
        },
        "b7c6e293f2a9475f9f3015fd3c6f6853": {
          "model_module": "@jupyter-widgets/base",
          "model_name": "LayoutModel",
          "model_module_version": "1.2.0",
          "state": {
            "_model_module": "@jupyter-widgets/base",
            "_model_module_version": "1.2.0",
            "_model_name": "LayoutModel",
            "_view_count": null,
            "_view_module": "@jupyter-widgets/base",
            "_view_module_version": "1.2.0",
            "_view_name": "LayoutView",
            "align_content": null,
            "align_items": null,
            "align_self": null,
            "border": null,
            "bottom": null,
            "display": null,
            "flex": null,
            "flex_flow": null,
            "grid_area": null,
            "grid_auto_columns": null,
            "grid_auto_flow": null,
            "grid_auto_rows": null,
            "grid_column": null,
            "grid_gap": null,
            "grid_row": null,
            "grid_template_areas": null,
            "grid_template_columns": null,
            "grid_template_rows": null,
            "height": null,
            "justify_content": null,
            "justify_items": null,
            "left": null,
            "margin": null,
            "max_height": null,
            "max_width": null,
            "min_height": null,
            "min_width": null,
            "object_fit": null,
            "object_position": null,
            "order": null,
            "overflow": null,
            "overflow_x": null,
            "overflow_y": null,
            "padding": null,
            "right": null,
            "top": null,
            "visibility": null,
            "width": null
          }
        },
        "bb9cba9e736c40c58c4f47a087af1fee": {
          "model_module": "@jupyter-widgets/controls",
          "model_name": "ProgressStyleModel",
          "model_module_version": "1.5.0",
          "state": {
            "_model_module": "@jupyter-widgets/controls",
            "_model_module_version": "1.5.0",
            "_model_name": "ProgressStyleModel",
            "_view_count": null,
            "_view_module": "@jupyter-widgets/base",
            "_view_module_version": "1.2.0",
            "_view_name": "StyleView",
            "bar_color": null,
            "description_width": ""
          }
        },
        "2cd344189a5d4839b49c2bbb387e9319": {
          "model_module": "@jupyter-widgets/base",
          "model_name": "LayoutModel",
          "model_module_version": "1.2.0",
          "state": {
            "_model_module": "@jupyter-widgets/base",
            "_model_module_version": "1.2.0",
            "_model_name": "LayoutModel",
            "_view_count": null,
            "_view_module": "@jupyter-widgets/base",
            "_view_module_version": "1.2.0",
            "_view_name": "LayoutView",
            "align_content": null,
            "align_items": null,
            "align_self": null,
            "border": null,
            "bottom": null,
            "display": null,
            "flex": null,
            "flex_flow": null,
            "grid_area": null,
            "grid_auto_columns": null,
            "grid_auto_flow": null,
            "grid_auto_rows": null,
            "grid_column": null,
            "grid_gap": null,
            "grid_row": null,
            "grid_template_areas": null,
            "grid_template_columns": null,
            "grid_template_rows": null,
            "height": null,
            "justify_content": null,
            "justify_items": null,
            "left": null,
            "margin": null,
            "max_height": null,
            "max_width": null,
            "min_height": null,
            "min_width": null,
            "object_fit": null,
            "object_position": null,
            "order": null,
            "overflow": null,
            "overflow_x": null,
            "overflow_y": null,
            "padding": null,
            "right": null,
            "top": null,
            "visibility": null,
            "width": null
          }
        },
        "9761ec5b690a4214a7cb80b56e355e07": {
          "model_module": "@jupyter-widgets/controls",
          "model_name": "DescriptionStyleModel",
          "model_module_version": "1.5.0",
          "state": {
            "_model_module": "@jupyter-widgets/controls",
            "_model_module_version": "1.5.0",
            "_model_name": "DescriptionStyleModel",
            "_view_count": null,
            "_view_module": "@jupyter-widgets/base",
            "_view_module_version": "1.2.0",
            "_view_name": "StyleView",
            "description_width": ""
          }
        },
        "643f80de25b14050988d49bce8f1e8a4": {
          "model_module": "@jupyter-widgets/controls",
          "model_name": "HBoxModel",
          "model_module_version": "1.5.0",
          "state": {
            "_dom_classes": [],
            "_model_module": "@jupyter-widgets/controls",
            "_model_module_version": "1.5.0",
            "_model_name": "HBoxModel",
            "_view_count": null,
            "_view_module": "@jupyter-widgets/controls",
            "_view_module_version": "1.5.0",
            "_view_name": "HBoxView",
            "box_style": "",
            "children": [
              "IPY_MODEL_60e90d7ac95d40c8971a69c200033659",
              "IPY_MODEL_3b7bdca472324da09d83a68d0ced1a8a",
              "IPY_MODEL_a4cefd03ea9b42cdbb3bd273f68e7427"
            ],
            "layout": "IPY_MODEL_425efab48082430ebee11d28a2e59df0"
          }
        },
        "60e90d7ac95d40c8971a69c200033659": {
          "model_module": "@jupyter-widgets/controls",
          "model_name": "HTMLModel",
          "model_module_version": "1.5.0",
          "state": {
            "_dom_classes": [],
            "_model_module": "@jupyter-widgets/controls",
            "_model_module_version": "1.5.0",
            "_model_name": "HTMLModel",
            "_view_count": null,
            "_view_module": "@jupyter-widgets/controls",
            "_view_module_version": "1.5.0",
            "_view_name": "HTMLView",
            "description": "",
            "description_tooltip": null,
            "layout": "IPY_MODEL_15bf0cf052a84cd09043216cf0da1be5",
            "placeholder": "​",
            "style": "IPY_MODEL_175f4d4294184a069cffff73e947af91",
            "value": "100%"
          }
        },
        "3b7bdca472324da09d83a68d0ced1a8a": {
          "model_module": "@jupyter-widgets/controls",
          "model_name": "FloatProgressModel",
          "model_module_version": "1.5.0",
          "state": {
            "_dom_classes": [],
            "_model_module": "@jupyter-widgets/controls",
            "_model_module_version": "1.5.0",
            "_model_name": "FloatProgressModel",
            "_view_count": null,
            "_view_module": "@jupyter-widgets/controls",
            "_view_module_version": "1.5.0",
            "_view_name": "ProgressView",
            "bar_style": "success",
            "description": "",
            "description_tooltip": null,
            "layout": "IPY_MODEL_7f8ca0e9eb2e477ea75178ddf855bfe7",
            "max": 40,
            "min": 0,
            "orientation": "horizontal",
            "style": "IPY_MODEL_8338e6fab1524b87a37717bc6a77cd9b",
            "value": 40
          }
        },
        "a4cefd03ea9b42cdbb3bd273f68e7427": {
          "model_module": "@jupyter-widgets/controls",
          "model_name": "HTMLModel",
          "model_module_version": "1.5.0",
          "state": {
            "_dom_classes": [],
            "_model_module": "@jupyter-widgets/controls",
            "_model_module_version": "1.5.0",
            "_model_name": "HTMLModel",
            "_view_count": null,
            "_view_module": "@jupyter-widgets/controls",
            "_view_module_version": "1.5.0",
            "_view_name": "HTMLView",
            "description": "",
            "description_tooltip": null,
            "layout": "IPY_MODEL_bccdee7987534a5aa7a3085ced106825",
            "placeholder": "​",
            "style": "IPY_MODEL_63eb16f78f51453b9b270315270d2c65",
            "value": " 40/40 [10:03&lt;00:00, 15.17s/it]"
          }
        },
        "425efab48082430ebee11d28a2e59df0": {
          "model_module": "@jupyter-widgets/base",
          "model_name": "LayoutModel",
          "model_module_version": "1.2.0",
          "state": {
            "_model_module": "@jupyter-widgets/base",
            "_model_module_version": "1.2.0",
            "_model_name": "LayoutModel",
            "_view_count": null,
            "_view_module": "@jupyter-widgets/base",
            "_view_module_version": "1.2.0",
            "_view_name": "LayoutView",
            "align_content": null,
            "align_items": null,
            "align_self": null,
            "border": null,
            "bottom": null,
            "display": null,
            "flex": null,
            "flex_flow": null,
            "grid_area": null,
            "grid_auto_columns": null,
            "grid_auto_flow": null,
            "grid_auto_rows": null,
            "grid_column": null,
            "grid_gap": null,
            "grid_row": null,
            "grid_template_areas": null,
            "grid_template_columns": null,
            "grid_template_rows": null,
            "height": null,
            "justify_content": null,
            "justify_items": null,
            "left": null,
            "margin": null,
            "max_height": null,
            "max_width": null,
            "min_height": null,
            "min_width": null,
            "object_fit": null,
            "object_position": null,
            "order": null,
            "overflow": null,
            "overflow_x": null,
            "overflow_y": null,
            "padding": null,
            "right": null,
            "top": null,
            "visibility": null,
            "width": null
          }
        },
        "15bf0cf052a84cd09043216cf0da1be5": {
          "model_module": "@jupyter-widgets/base",
          "model_name": "LayoutModel",
          "model_module_version": "1.2.0",
          "state": {
            "_model_module": "@jupyter-widgets/base",
            "_model_module_version": "1.2.0",
            "_model_name": "LayoutModel",
            "_view_count": null,
            "_view_module": "@jupyter-widgets/base",
            "_view_module_version": "1.2.0",
            "_view_name": "LayoutView",
            "align_content": null,
            "align_items": null,
            "align_self": null,
            "border": null,
            "bottom": null,
            "display": null,
            "flex": null,
            "flex_flow": null,
            "grid_area": null,
            "grid_auto_columns": null,
            "grid_auto_flow": null,
            "grid_auto_rows": null,
            "grid_column": null,
            "grid_gap": null,
            "grid_row": null,
            "grid_template_areas": null,
            "grid_template_columns": null,
            "grid_template_rows": null,
            "height": null,
            "justify_content": null,
            "justify_items": null,
            "left": null,
            "margin": null,
            "max_height": null,
            "max_width": null,
            "min_height": null,
            "min_width": null,
            "object_fit": null,
            "object_position": null,
            "order": null,
            "overflow": null,
            "overflow_x": null,
            "overflow_y": null,
            "padding": null,
            "right": null,
            "top": null,
            "visibility": null,
            "width": null
          }
        },
        "175f4d4294184a069cffff73e947af91": {
          "model_module": "@jupyter-widgets/controls",
          "model_name": "DescriptionStyleModel",
          "model_module_version": "1.5.0",
          "state": {
            "_model_module": "@jupyter-widgets/controls",
            "_model_module_version": "1.5.0",
            "_model_name": "DescriptionStyleModel",
            "_view_count": null,
            "_view_module": "@jupyter-widgets/base",
            "_view_module_version": "1.2.0",
            "_view_name": "StyleView",
            "description_width": ""
          }
        },
        "7f8ca0e9eb2e477ea75178ddf855bfe7": {
          "model_module": "@jupyter-widgets/base",
          "model_name": "LayoutModel",
          "model_module_version": "1.2.0",
          "state": {
            "_model_module": "@jupyter-widgets/base",
            "_model_module_version": "1.2.0",
            "_model_name": "LayoutModel",
            "_view_count": null,
            "_view_module": "@jupyter-widgets/base",
            "_view_module_version": "1.2.0",
            "_view_name": "LayoutView",
            "align_content": null,
            "align_items": null,
            "align_self": null,
            "border": null,
            "bottom": null,
            "display": null,
            "flex": null,
            "flex_flow": null,
            "grid_area": null,
            "grid_auto_columns": null,
            "grid_auto_flow": null,
            "grid_auto_rows": null,
            "grid_column": null,
            "grid_gap": null,
            "grid_row": null,
            "grid_template_areas": null,
            "grid_template_columns": null,
            "grid_template_rows": null,
            "height": null,
            "justify_content": null,
            "justify_items": null,
            "left": null,
            "margin": null,
            "max_height": null,
            "max_width": null,
            "min_height": null,
            "min_width": null,
            "object_fit": null,
            "object_position": null,
            "order": null,
            "overflow": null,
            "overflow_x": null,
            "overflow_y": null,
            "padding": null,
            "right": null,
            "top": null,
            "visibility": null,
            "width": null
          }
        },
        "8338e6fab1524b87a37717bc6a77cd9b": {
          "model_module": "@jupyter-widgets/controls",
          "model_name": "ProgressStyleModel",
          "model_module_version": "1.5.0",
          "state": {
            "_model_module": "@jupyter-widgets/controls",
            "_model_module_version": "1.5.0",
            "_model_name": "ProgressStyleModel",
            "_view_count": null,
            "_view_module": "@jupyter-widgets/base",
            "_view_module_version": "1.2.0",
            "_view_name": "StyleView",
            "bar_color": null,
            "description_width": ""
          }
        },
        "bccdee7987534a5aa7a3085ced106825": {
          "model_module": "@jupyter-widgets/base",
          "model_name": "LayoutModel",
          "model_module_version": "1.2.0",
          "state": {
            "_model_module": "@jupyter-widgets/base",
            "_model_module_version": "1.2.0",
            "_model_name": "LayoutModel",
            "_view_count": null,
            "_view_module": "@jupyter-widgets/base",
            "_view_module_version": "1.2.0",
            "_view_name": "LayoutView",
            "align_content": null,
            "align_items": null,
            "align_self": null,
            "border": null,
            "bottom": null,
            "display": null,
            "flex": null,
            "flex_flow": null,
            "grid_area": null,
            "grid_auto_columns": null,
            "grid_auto_flow": null,
            "grid_auto_rows": null,
            "grid_column": null,
            "grid_gap": null,
            "grid_row": null,
            "grid_template_areas": null,
            "grid_template_columns": null,
            "grid_template_rows": null,
            "height": null,
            "justify_content": null,
            "justify_items": null,
            "left": null,
            "margin": null,
            "max_height": null,
            "max_width": null,
            "min_height": null,
            "min_width": null,
            "object_fit": null,
            "object_position": null,
            "order": null,
            "overflow": null,
            "overflow_x": null,
            "overflow_y": null,
            "padding": null,
            "right": null,
            "top": null,
            "visibility": null,
            "width": null
          }
        },
        "63eb16f78f51453b9b270315270d2c65": {
          "model_module": "@jupyter-widgets/controls",
          "model_name": "DescriptionStyleModel",
          "model_module_version": "1.5.0",
          "state": {
            "_model_module": "@jupyter-widgets/controls",
            "_model_module_version": "1.5.0",
            "_model_name": "DescriptionStyleModel",
            "_view_count": null,
            "_view_module": "@jupyter-widgets/base",
            "_view_module_version": "1.2.0",
            "_view_name": "StyleView",
            "description_width": ""
          }
        },
        "9f9c68459e6d43da911e80cbffa75440": {
          "model_module": "@jupyter-widgets/controls",
          "model_name": "HBoxModel",
          "model_module_version": "1.5.0",
          "state": {
            "_dom_classes": [],
            "_model_module": "@jupyter-widgets/controls",
            "_model_module_version": "1.5.0",
            "_model_name": "HBoxModel",
            "_view_count": null,
            "_view_module": "@jupyter-widgets/controls",
            "_view_module_version": "1.5.0",
            "_view_name": "HBoxView",
            "box_style": "",
            "children": [
              "IPY_MODEL_5e9df109878a4256bd0e0d51db87984b",
              "IPY_MODEL_0d006a3168ce4c2b9eb3bec9bac19aab",
              "IPY_MODEL_4fe59dc468554d6496e8e47eef90ad8d"
            ],
            "layout": "IPY_MODEL_fed5102d7a604cea8543662110db8996"
          }
        },
        "5e9df109878a4256bd0e0d51db87984b": {
          "model_module": "@jupyter-widgets/controls",
          "model_name": "HTMLModel",
          "model_module_version": "1.5.0",
          "state": {
            "_dom_classes": [],
            "_model_module": "@jupyter-widgets/controls",
            "_model_module_version": "1.5.0",
            "_model_name": "HTMLModel",
            "_view_count": null,
            "_view_module": "@jupyter-widgets/controls",
            "_view_module_version": "1.5.0",
            "_view_name": "HTMLView",
            "description": "",
            "description_tooltip": null,
            "layout": "IPY_MODEL_d99314160fb34a52ad32067c66cb5bb4",
            "placeholder": "​",
            "style": "IPY_MODEL_cc01c086325d4fbf9f5765138bba4a49",
            "value": "100%"
          }
        },
        "0d006a3168ce4c2b9eb3bec9bac19aab": {
          "model_module": "@jupyter-widgets/controls",
          "model_name": "FloatProgressModel",
          "model_module_version": "1.5.0",
          "state": {
            "_dom_classes": [],
            "_model_module": "@jupyter-widgets/controls",
            "_model_module_version": "1.5.0",
            "_model_name": "FloatProgressModel",
            "_view_count": null,
            "_view_module": "@jupyter-widgets/controls",
            "_view_module_version": "1.5.0",
            "_view_name": "ProgressView",
            "bar_style": "success",
            "description": "",
            "description_tooltip": null,
            "layout": "IPY_MODEL_49e765394da641a3aa9a413f5d28ca1f",
            "max": 3,
            "min": 0,
            "orientation": "horizontal",
            "style": "IPY_MODEL_3994f513fdd443a9ad7bd905f9c260cd",
            "value": 3
          }
        },
        "4fe59dc468554d6496e8e47eef90ad8d": {
          "model_module": "@jupyter-widgets/controls",
          "model_name": "HTMLModel",
          "model_module_version": "1.5.0",
          "state": {
            "_dom_classes": [],
            "_model_module": "@jupyter-widgets/controls",
            "_model_module_version": "1.5.0",
            "_model_name": "HTMLModel",
            "_view_count": null,
            "_view_module": "@jupyter-widgets/controls",
            "_view_module_version": "1.5.0",
            "_view_name": "HTMLView",
            "description": "",
            "description_tooltip": null,
            "layout": "IPY_MODEL_079c37758b1c41e3a2a7563c25ed95e6",
            "placeholder": "​",
            "style": "IPY_MODEL_0ae3af9722d64d0ebfbed5b97819d0e6",
            "value": " 3/3 [01:08&lt;00:00, 22.98s/it]"
          }
        },
        "fed5102d7a604cea8543662110db8996": {
          "model_module": "@jupyter-widgets/base",
          "model_name": "LayoutModel",
          "model_module_version": "1.2.0",
          "state": {
            "_model_module": "@jupyter-widgets/base",
            "_model_module_version": "1.2.0",
            "_model_name": "LayoutModel",
            "_view_count": null,
            "_view_module": "@jupyter-widgets/base",
            "_view_module_version": "1.2.0",
            "_view_name": "LayoutView",
            "align_content": null,
            "align_items": null,
            "align_self": null,
            "border": null,
            "bottom": null,
            "display": null,
            "flex": null,
            "flex_flow": null,
            "grid_area": null,
            "grid_auto_columns": null,
            "grid_auto_flow": null,
            "grid_auto_rows": null,
            "grid_column": null,
            "grid_gap": null,
            "grid_row": null,
            "grid_template_areas": null,
            "grid_template_columns": null,
            "grid_template_rows": null,
            "height": null,
            "justify_content": null,
            "justify_items": null,
            "left": null,
            "margin": null,
            "max_height": null,
            "max_width": null,
            "min_height": null,
            "min_width": null,
            "object_fit": null,
            "object_position": null,
            "order": null,
            "overflow": null,
            "overflow_x": null,
            "overflow_y": null,
            "padding": null,
            "right": null,
            "top": null,
            "visibility": null,
            "width": null
          }
        },
        "d99314160fb34a52ad32067c66cb5bb4": {
          "model_module": "@jupyter-widgets/base",
          "model_name": "LayoutModel",
          "model_module_version": "1.2.0",
          "state": {
            "_model_module": "@jupyter-widgets/base",
            "_model_module_version": "1.2.0",
            "_model_name": "LayoutModel",
            "_view_count": null,
            "_view_module": "@jupyter-widgets/base",
            "_view_module_version": "1.2.0",
            "_view_name": "LayoutView",
            "align_content": null,
            "align_items": null,
            "align_self": null,
            "border": null,
            "bottom": null,
            "display": null,
            "flex": null,
            "flex_flow": null,
            "grid_area": null,
            "grid_auto_columns": null,
            "grid_auto_flow": null,
            "grid_auto_rows": null,
            "grid_column": null,
            "grid_gap": null,
            "grid_row": null,
            "grid_template_areas": null,
            "grid_template_columns": null,
            "grid_template_rows": null,
            "height": null,
            "justify_content": null,
            "justify_items": null,
            "left": null,
            "margin": null,
            "max_height": null,
            "max_width": null,
            "min_height": null,
            "min_width": null,
            "object_fit": null,
            "object_position": null,
            "order": null,
            "overflow": null,
            "overflow_x": null,
            "overflow_y": null,
            "padding": null,
            "right": null,
            "top": null,
            "visibility": null,
            "width": null
          }
        },
        "cc01c086325d4fbf9f5765138bba4a49": {
          "model_module": "@jupyter-widgets/controls",
          "model_name": "DescriptionStyleModel",
          "model_module_version": "1.5.0",
          "state": {
            "_model_module": "@jupyter-widgets/controls",
            "_model_module_version": "1.5.0",
            "_model_name": "DescriptionStyleModel",
            "_view_count": null,
            "_view_module": "@jupyter-widgets/base",
            "_view_module_version": "1.2.0",
            "_view_name": "StyleView",
            "description_width": ""
          }
        },
        "49e765394da641a3aa9a413f5d28ca1f": {
          "model_module": "@jupyter-widgets/base",
          "model_name": "LayoutModel",
          "model_module_version": "1.2.0",
          "state": {
            "_model_module": "@jupyter-widgets/base",
            "_model_module_version": "1.2.0",
            "_model_name": "LayoutModel",
            "_view_count": null,
            "_view_module": "@jupyter-widgets/base",
            "_view_module_version": "1.2.0",
            "_view_name": "LayoutView",
            "align_content": null,
            "align_items": null,
            "align_self": null,
            "border": null,
            "bottom": null,
            "display": null,
            "flex": null,
            "flex_flow": null,
            "grid_area": null,
            "grid_auto_columns": null,
            "grid_auto_flow": null,
            "grid_auto_rows": null,
            "grid_column": null,
            "grid_gap": null,
            "grid_row": null,
            "grid_template_areas": null,
            "grid_template_columns": null,
            "grid_template_rows": null,
            "height": null,
            "justify_content": null,
            "justify_items": null,
            "left": null,
            "margin": null,
            "max_height": null,
            "max_width": null,
            "min_height": null,
            "min_width": null,
            "object_fit": null,
            "object_position": null,
            "order": null,
            "overflow": null,
            "overflow_x": null,
            "overflow_y": null,
            "padding": null,
            "right": null,
            "top": null,
            "visibility": null,
            "width": null
          }
        },
        "3994f513fdd443a9ad7bd905f9c260cd": {
          "model_module": "@jupyter-widgets/controls",
          "model_name": "ProgressStyleModel",
          "model_module_version": "1.5.0",
          "state": {
            "_model_module": "@jupyter-widgets/controls",
            "_model_module_version": "1.5.0",
            "_model_name": "ProgressStyleModel",
            "_view_count": null,
            "_view_module": "@jupyter-widgets/base",
            "_view_module_version": "1.2.0",
            "_view_name": "StyleView",
            "bar_color": null,
            "description_width": ""
          }
        },
        "079c37758b1c41e3a2a7563c25ed95e6": {
          "model_module": "@jupyter-widgets/base",
          "model_name": "LayoutModel",
          "model_module_version": "1.2.0",
          "state": {
            "_model_module": "@jupyter-widgets/base",
            "_model_module_version": "1.2.0",
            "_model_name": "LayoutModel",
            "_view_count": null,
            "_view_module": "@jupyter-widgets/base",
            "_view_module_version": "1.2.0",
            "_view_name": "LayoutView",
            "align_content": null,
            "align_items": null,
            "align_self": null,
            "border": null,
            "bottom": null,
            "display": null,
            "flex": null,
            "flex_flow": null,
            "grid_area": null,
            "grid_auto_columns": null,
            "grid_auto_flow": null,
            "grid_auto_rows": null,
            "grid_column": null,
            "grid_gap": null,
            "grid_row": null,
            "grid_template_areas": null,
            "grid_template_columns": null,
            "grid_template_rows": null,
            "height": null,
            "justify_content": null,
            "justify_items": null,
            "left": null,
            "margin": null,
            "max_height": null,
            "max_width": null,
            "min_height": null,
            "min_width": null,
            "object_fit": null,
            "object_position": null,
            "order": null,
            "overflow": null,
            "overflow_x": null,
            "overflow_y": null,
            "padding": null,
            "right": null,
            "top": null,
            "visibility": null,
            "width": null
          }
        },
        "0ae3af9722d64d0ebfbed5b97819d0e6": {
          "model_module": "@jupyter-widgets/controls",
          "model_name": "DescriptionStyleModel",
          "model_module_version": "1.5.0",
          "state": {
            "_model_module": "@jupyter-widgets/controls",
            "_model_module_version": "1.5.0",
            "_model_name": "DescriptionStyleModel",
            "_view_count": null,
            "_view_module": "@jupyter-widgets/base",
            "_view_module_version": "1.2.0",
            "_view_name": "StyleView",
            "description_width": ""
          }
        }
      }
    }
  },
  "nbformat": 4,
  "nbformat_minor": 0
}