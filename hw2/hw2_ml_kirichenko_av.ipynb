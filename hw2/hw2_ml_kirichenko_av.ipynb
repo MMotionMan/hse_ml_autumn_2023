{
  "cells": [
    {
      "cell_type": "markdown",
      "metadata": {
        "id": "J8ENdf9A644d"
      },
      "source": [
        "### Машинное Обучения\n",
        "\n",
        "## Домашнее задание №2 - Дерево решений"
      ]
    },
    {
      "cell_type": "markdown",
      "metadata": {
        "id": "t4DOx6RD644f"
      },
      "source": [
        "**Общая информация**\n",
        "\n",
        "**Срок сдачи:** 21 ноября 2023, 08:30   \n",
        "**Штраф за опоздание:** -2 балла за каждые 2 дня опоздания\n",
        "\n",
        "Решений залить в свой github репозиторий.\n",
        "\n",
        "Используйте данный Ipython Notebook при оформлении домашнего задания."
      ]
    },
    {
      "cell_type": "markdown",
      "metadata": {
        "id": "G9Ckg-eM644g"
      },
      "source": [
        "##  Реализуем дерево решений (3 балла)"
      ]
    },
    {
      "cell_type": "markdown",
      "metadata": {
        "id": "6QoY5NyV644g"
      },
      "source": [
        "Допишите недостающие части дерева решений. Ваша реализация дерева должна работать по точности не хуже DecisionTreeClassifier из sklearn.\n",
        "Внимание: если Вас не устраивает предложенная структура хранения дерева, Вы без потери баллов можете сделать свой класс MyDecisionTreeClassifier, в котором сами полностью воспроизведете алгоритм дерева решений. Обязательно в нем иметь только функции fit, predict . (Но название класса не менять)"
      ]
    },
    {
      "cell_type": "code",
      "execution_count": 147,
      "metadata": {
        "collapsed": true,
        "jupyter": {
          "outputs_hidden": true
        },
        "id": "ScmEYifn644g"
      },
      "outputs": [],
      "source": [
        "import matplotlib.pyplot as plt\n",
        "import numpy as np\n",
        "import pandas as pd\n",
        "\n",
        "from sklearn.datasets import load_wine\n",
        "from sklearn.ensemble import RandomForestClassifier\n",
        "from sklearn.metrics import accuracy_score, f1_score, roc_auc_score\n",
        "from sklearn.model_selection import KFold, train_test_split, GridSearchCV, RandomizedSearchCV\n",
        "from sklearn.tree import DecisionTreeClassifier"
      ]
    },
    {
      "cell_type": "code",
      "source": [
        "a = np.array([1,3,1,9,0,123])\n",
        "np.max(a)"
      ],
      "metadata": {
        "colab": {
          "base_uri": "https://localhost:8080/"
        },
        "id": "VHxX_ZUS72dT",
        "outputId": "fbd90fd8-4a6e-4d63-ae3d-434325afcf47"
      },
      "execution_count": 148,
      "outputs": [
        {
          "output_type": "execute_result",
          "data": {
            "text/plain": [
              "123"
            ]
          },
          "metadata": {},
          "execution_count": 148
        }
      ]
    },
    {
      "cell_type": "code",
      "execution_count": 209,
      "metadata": {
        "id": "rDbuXby0644h"
      },
      "outputs": [],
      "source": [
        "class MyDecisionTreeClassifier:\n",
        "    NON_LEAF_TYPE = 0\n",
        "    LEAF_TYPE = 1\n",
        "\n",
        "    def __init__(self, min_samples_split=2, max_depth=5, criterion='gini'):\n",
        "        \"\"\"\n",
        "        criterion -- критерий расщепления. необходимо релизовать три:\n",
        "        Ошибка классификации, Индекс Джини, Энтропийный критерий\n",
        "        max_depth -- максимальная глубина дерева\n",
        "        min_samples_split -- минимальное число объектов в листе, чтобы сделать новый сплит\n",
        "        \"\"\"\n",
        "        self.min_samples_split = min_samples_split\n",
        "        self.max_depth = max_depth\n",
        "        self.num_class = -1\n",
        "        # Для последнего задания\n",
        "        self.feature_importances_ = None\n",
        "        self.criterion = criterion\n",
        "        # Структура, которая описывает дерево\n",
        "        # Представляет словарь, где для  node_id (айдишник узла дерева) храним\n",
        "        # (тип_узла, айдишник признака сплита, порог сплита) если тип NON_LEAF_TYPE\n",
        "        # (тип_узла, предсказание класса, вероятность класса) если тип LEAF_TYPE\n",
        "        # Подразумевается, что у каждого node_id в дереве слева\n",
        "        # узел с айди 2 * node_id + 1, а справа 2 * node_id + 2\n",
        "        self.gain = dict()\n",
        "        self.tree = dict()\n",
        "\n",
        "    def __div_samples(self, x, y, feature_id, threshold):\n",
        "        \"\"\"\n",
        "        Разделяет объекты на 2 множества\n",
        "        x -- матрица объектов\n",
        "        y -- вектор ответов\n",
        "        feature_id -- айдишник признака, по которому делаем сплит\n",
        "        threshold -- порог, по которому делаем сплит\n",
        "        \"\"\"\n",
        "        left_mask = x[:, feature_id] > threshold\n",
        "        right_mask = ~left_mask\n",
        "        return x[left_mask], x[right_mask], y[left_mask], y[right_mask]\n",
        "\n",
        "    def __find_threshold(self, x, y):\n",
        "        \"\"\"\n",
        "        Находим оптимальный признак и порог для сплита\n",
        "        Здесь используемые разные impurity в зависимости от self.criterion\n",
        "        \"\"\"\n",
        "        sorted_idx = x.argsort()\n",
        "\n",
        "        x_sort, y_sort = x[sorted_idx], y[sorted_idx]\n",
        "\n",
        "        min_size = np.int64(self.min_samples_split / 2 - 1)\n",
        "\n",
        "        if min_size:\n",
        "            y_split = y_sort[min_size * 2:]\n",
        "        else:\n",
        "            y_split = y_sort\n",
        "\n",
        "        border_ids = np.where(y_split[1:] != y_split[:-1])[0] + min_size * 2 + 1\n",
        "\n",
        "        if border_ids.size == 0:\n",
        "            return np.inf, None\n",
        "\n",
        "        class_count = border_ids - \\\n",
        "            np.append(np.array([min_size * 2]), border_ids[:-1])\n",
        "\n",
        "        number_of_classes = np.zeros((border_ids.shape[0], self.num_class))\n",
        "\n",
        "        number_of_classes[np.arange(border_ids.shape[0]),\n",
        "                          y_sort[border_ids - 1]] = class_count\n",
        "\n",
        "        l_class = np.cumsum(number_of_classes, axis=0)\n",
        "        r_class = np.bincount(y_sort,\n",
        "                              minlength=self.num_class) - l_class\n",
        "        l_size = border_ids.reshape(l_class.shape[0], 1)\n",
        "        r_size = y_sort.shape[0] - l_size\n",
        "\n",
        "        if self.criterion == 'gini':\n",
        "            H = 1 - np.sum(((l_class ** 2 / l_size) + (r_class ** 2 / r_size)) /\n",
        "                (l_class + r_size), axis=1)\n",
        "        elif self.criterion == 'entropy':\n",
        "            H = -np.sum((np.log2((l_class + 1e-6) / l_size) * (l_class + 1e-6) +\n",
        "                         np.log2((r_class + 1e-6) / r_size) * r_class) / (l_size + r_size), axis=1)\n",
        "\n",
        "        elif self.criterion == 'clf_error':\n",
        "            l_class = np.max(l_class, axis=1)\n",
        "            r_class = np.max(r_class, axis=1)\n",
        "            H = np.min(np.abs((l_class / l_size) - (r_class / r_size)), axis=1)\n",
        "\n",
        "        i = np.argmin(H)\n",
        "        return H[i], (x_sort[border_ids[i] - 1] + x_sort[border_ids[i]]) / 2.0\n",
        "\n",
        "    def __fit_node(self, x, y, node_id, depth):\n",
        "        \"\"\"\n",
        "        Делаем новый узел в дереве\n",
        "        Решаем, терминальный он или нет\n",
        "        Если нет, то строим левый узел  с айди 2 * node_id + 1\n",
        "        И правый узел с  айди 2 * node_id + 2\n",
        "        \"\"\"\n",
        "        nums_class = np.bincount(y)\n",
        "        max_num_class = np.argmax(nums_class)\n",
        "        if y.shape[0] < self.min_samples_split or\\\n",
        "                self.max_depth and depth >= self.max_depth:\n",
        "            self.tree[node_id] = (self.LEAF_TYPE,\n",
        "                                  max_num_class, nums_class / y.size)\n",
        "            self.gain[max_num_class] = nums_class / y.size\n",
        "            return\n",
        "\n",
        "        features_id = np.arange(x.shape[1])\n",
        "        all_thresholds = np.array([self.__find_threshold(x[:, i], y)\n",
        "                                   for i in features_id])\n",
        "\n",
        "        best_feature_id = all_thresholds[:, 0].argmin()\n",
        "        best_threshold = all_thresholds[best_feature_id, 1]\n",
        "        if not best_threshold:\n",
        "            self.tree[node_id] = (self.LEAF_TYPE,\n",
        "                                  max_num_class, nums_class / y.size)\n",
        "            self.gain[max_num_class] = nums_class / y.size\n",
        "            return\n",
        "\n",
        "        x_left, x_right, y_left, y_right =\\\n",
        "            self.__div_samples(x, y,\n",
        "                               features_id[best_feature_id],\n",
        "                               best_threshold)\n",
        "\n",
        "        left_classes = len(np.unique(y_left))\n",
        "        right_classes = len(np.unique(y_right))\n",
        "        self.gain[features_id[best_feature_id]] = best_threshold\n",
        "\n",
        "        if x_left.size == 0 or x_right.size == 0:\n",
        "            self.tree[node_id] = (self.LEAF_TYPE, max_num_class,\n",
        "                                  nums_class.astype(np.float64) / y.size)\n",
        "\n",
        "            return\n",
        "\n",
        "\n",
        "        self.tree[node_id] = (self.NON_LEAF_TYPE,\n",
        "                              features_id[best_feature_id],\n",
        "                              best_threshold)\n",
        "        self.__fit_node(x_left, y_left, 2 * node_id + 1, depth + 1)\n",
        "        self.__fit_node(x_right, y_right, 2 * node_id + 2, depth + 1)\n",
        "\n",
        "    def fit(self, x, y):\n",
        "        \"\"\"\n",
        "        Рекурсивно строим дерево решений\n",
        "        Начинаем с корня node_id 0\n",
        "        \"\"\"\n",
        "        self.num_class = np.unique(y).size\n",
        "        self.__fit_node(x, y, 0, 0)\n",
        "\n",
        "    def __predict_class(self, x, node_id):\n",
        "        \"\"\"\n",
        "        Рекурсивно обходим дерево по всем узлам,\n",
        "        пока не дойдем до терминального\n",
        "        \"\"\"\n",
        "        node = self.tree[node_id]\n",
        "        if node[0] == self.__class__.NON_LEAF_TYPE:\n",
        "            _, feature_id, threshold = node\n",
        "            if x[feature_id] > threshold:\n",
        "                return self.__predict_class(x, 2 * node_id + 1)\n",
        "            else:\n",
        "                return self.__predict_class(x, 2 * node_id + 2)\n",
        "        else:\n",
        "            return node[1]\n",
        "\n",
        "    def predict(self, X):\n",
        "        \"\"\"\n",
        "        Вызывает predict для всех объектов из матрицы X\n",
        "        \"\"\"\n",
        "        return np.array([self.__predict_class(x, 0) for x in X])\n",
        "\n",
        "    def fit_predict(self, x_train, y_train, predicted_x):\n",
        "        self.fit(x_train, y_train)\n",
        "        return self.predict(predicted_x)\n",
        "\n",
        "    def get_feature_importance(self):\n",
        "        \"\"\"\n",
        "        Возвращает важность признаков\n",
        "        \"\"\"\n",
        "        return self.gain"
      ]
    },
    {
      "cell_type": "code",
      "execution_count": 150,
      "metadata": {
        "id": "W2ZJoOKB644h"
      },
      "outputs": [],
      "source": [
        "my_clf = MyDecisionTreeClassifier(min_samples_split=2)\n",
        "clf = DecisionTreeClassifier(min_samples_split=2)"
      ]
    },
    {
      "cell_type": "code",
      "execution_count": 151,
      "metadata": {
        "id": "7yYT4GPi644h"
      },
      "outputs": [],
      "source": [
        "wine = load_wine()\n",
        "X_train, X_test, y_train, y_test = train_test_split(wine.data, wine.target, test_size=0.1, stratify=wine.target)"
      ]
    },
    {
      "cell_type": "code",
      "source": [
        "clf.fit(X_train, y_train)\n",
        "my_clf.fit(X_train, y_train)"
      ],
      "metadata": {
        "id": "afhVJraq7i0s"
      },
      "execution_count": 152,
      "outputs": []
    },
    {
      "cell_type": "code",
      "execution_count": 153,
      "metadata": {
        "colab": {
          "base_uri": "https://localhost:8080/"
        },
        "id": "DLMMfNzS644h",
        "outputId": "adbc41ba-5d3c-421d-bf95-d789765e1020"
      },
      "outputs": [
        {
          "output_type": "stream",
          "name": "stdout",
          "text": [
            "0.9444444444444444\n"
          ]
        },
        {
          "output_type": "execute_result",
          "data": {
            "text/plain": [
              "0.9444444444444444"
            ]
          },
          "metadata": {},
          "execution_count": 153
        }
      ],
      "source": [
        "print(accuracy_score(y_pred=clf.predict(X_test), y_true=y_test))\n",
        "accuracy_score(y_pred=my_clf.predict(X_test), y_true=y_test)"
      ]
    },
    {
      "cell_type": "markdown",
      "metadata": {
        "id": "xuKp8mLJ644h"
      },
      "source": [
        "Совет: Проверьте, что ваша реализация корректно работает с признаками в которых встречаются повторы.\n",
        "И подумайте, какие еще граничные случаи могут быть.\n",
        "Например, проверьте, что на таком примере ваша модель корректно работает:"
      ]
    },
    {
      "cell_type": "code",
      "execution_count": 154,
      "metadata": {
        "colab": {
          "base_uri": "https://localhost:8080/"
        },
        "id": "MPbt8UCQ644h",
        "outputId": "e9457992-7313-4356-ba9c-57b363490931"
      },
      "outputs": [
        {
          "output_type": "stream",
          "name": "stdout",
          "text": [
            "DEPTH: 1 \n",
            "\t\tTree: {0: (1, 0, array([0.5, 0.5]))} [0 0 0 0 0 0 0 0 0 0]\n",
            "DEPTH: 2 \n",
            "\t\tTree: {0: (1, 0, array([0.5, 0.5]))} [0 0 0 0 0 0 0 0 0 0]\n",
            "DEPTH: 3 \n",
            "\t\tTree: {0: (1, 0, array([0.5, 0.5]))} [0 0 0 0 0 0 0 0 0 0]\n",
            "DEPTH: 4 \n",
            "\t\tTree: {0: (1, 0, array([0.5, 0.5]))} [0 0 0 0 0 0 0 0 0 0]\n"
          ]
        }
      ],
      "source": [
        "X = np.array([[1] * 10, [0, 1, 2, 5, 6, 3, 4, 7, 8, 9]]).T\n",
        "y = np.array([0, 0, 0, 0, 0, 1, 1, 1, 1, 1])\n",
        "for depth in range(1, 5):\n",
        "    my_clf = MyDecisionTreeClassifier(max_depth=depth)\n",
        "    my_clf.fit(X, y)\n",
        "    print(\"DEPTH:\", depth, \"\\n\\t\\tTree:\", my_clf.tree, my_clf.predict(X))"
      ]
    },
    {
      "cell_type": "code",
      "source": [
        "depths = [i for i in range(1, 100, 1)]\n",
        "min_smaples_splits = [i for i in range(0, 4)]\n",
        "\n",
        "for depth in depths:\n",
        "    my_clf = MyDecisionTreeClassifier(min_samples_split=1, max_depth=depth)\n",
        "    my_clf.fit(X_train, y_train)\n",
        "    print(accuracy_score(y_true=y_train, y_pred=my_clf.predict(X_train)))"
      ],
      "metadata": {
        "colab": {
          "base_uri": "https://localhost:8080/"
        },
        "id": "n0hLGFCu_GHe",
        "outputId": "e4e53206-dc99-416a-82c4-b60e9a29e16e"
      },
      "execution_count": 155,
      "outputs": [
        {
          "output_type": "stream",
          "name": "stdout",
          "text": [
            "0.64375\n",
            "0.8\n",
            "0.825\n",
            "0.8875\n",
            "0.925\n",
            "0.95\n",
            "0.95\n",
            "0.9625\n",
            "0.96875\n",
            "0.975\n",
            "0.98125\n",
            "0.98125\n",
            "0.98125\n",
            "0.98125\n",
            "0.98125\n",
            "0.98125\n",
            "0.98125\n",
            "0.98125\n",
            "0.98125\n",
            "0.98125\n",
            "0.98125\n",
            "0.98125\n",
            "0.98125\n",
            "0.98125\n",
            "0.98125\n",
            "0.98125\n",
            "0.98125\n",
            "0.98125\n",
            "0.98125\n",
            "0.98125\n",
            "0.98125\n",
            "0.98125\n",
            "0.98125\n",
            "0.98125\n",
            "0.98125\n",
            "0.98125\n",
            "0.98125\n",
            "0.98125\n",
            "0.98125\n",
            "0.98125\n",
            "0.98125\n",
            "0.98125\n",
            "0.98125\n",
            "0.98125\n",
            "0.98125\n",
            "0.98125\n",
            "0.98125\n",
            "0.98125\n",
            "0.98125\n",
            "0.98125\n",
            "0.98125\n",
            "0.98125\n",
            "0.98125\n",
            "0.98125\n",
            "0.98125\n",
            "0.98125\n",
            "0.98125\n",
            "0.98125\n",
            "0.98125\n",
            "0.98125\n",
            "0.98125\n",
            "0.98125\n",
            "0.98125\n",
            "0.98125\n",
            "0.98125\n",
            "0.98125\n",
            "0.98125\n",
            "0.98125\n",
            "0.98125\n",
            "0.98125\n",
            "0.98125\n",
            "0.98125\n",
            "0.98125\n",
            "0.98125\n",
            "0.98125\n",
            "0.98125\n",
            "0.98125\n",
            "0.98125\n",
            "0.98125\n",
            "0.98125\n",
            "0.98125\n",
            "0.98125\n",
            "0.98125\n",
            "0.98125\n",
            "0.98125\n",
            "0.98125\n",
            "0.98125\n",
            "0.98125\n",
            "0.98125\n",
            "0.98125\n",
            "0.98125\n",
            "0.98125\n",
            "0.98125\n",
            "0.98125\n",
            "0.98125\n",
            "0.98125\n",
            "0.98125\n",
            "0.98125\n",
            "0.98125\n"
          ]
        }
      ]
    },
    {
      "cell_type": "markdown",
      "metadata": {
        "id": "vDj2Bt5r644h"
      },
      "source": [
        "## Ускоряем дерево решений (2 балла)\n",
        "Добиться скорости работы на fit не медленнее чем в 10 раз sklearn на данных wine.\n",
        "Для этого используем numpy."
      ]
    },
    {
      "cell_type": "code",
      "execution_count": 156,
      "metadata": {
        "scrolled": true,
        "colab": {
          "base_uri": "https://localhost:8080/",
          "height": 110
        },
        "id": "rdXS5R2Q644i",
        "outputId": "40884de2-ed4a-46a4-a9fe-aad5137f7a65"
      },
      "outputs": [
        {
          "output_type": "stream",
          "name": "stdout",
          "text": [
            "CPU times: user 1.01 ms, sys: 1 ms, total: 2.02 ms\n",
            "Wall time: 2.06 ms\n"
          ]
        },
        {
          "output_type": "execute_result",
          "data": {
            "text/plain": [
              "DecisionTreeClassifier()"
            ],
            "text/html": [
              "<style>#sk-container-id-6 {color: black;background-color: white;}#sk-container-id-6 pre{padding: 0;}#sk-container-id-6 div.sk-toggleable {background-color: white;}#sk-container-id-6 label.sk-toggleable__label {cursor: pointer;display: block;width: 100%;margin-bottom: 0;padding: 0.3em;box-sizing: border-box;text-align: center;}#sk-container-id-6 label.sk-toggleable__label-arrow:before {content: \"▸\";float: left;margin-right: 0.25em;color: #696969;}#sk-container-id-6 label.sk-toggleable__label-arrow:hover:before {color: black;}#sk-container-id-6 div.sk-estimator:hover label.sk-toggleable__label-arrow:before {color: black;}#sk-container-id-6 div.sk-toggleable__content {max-height: 0;max-width: 0;overflow: hidden;text-align: left;background-color: #f0f8ff;}#sk-container-id-6 div.sk-toggleable__content pre {margin: 0.2em;color: black;border-radius: 0.25em;background-color: #f0f8ff;}#sk-container-id-6 input.sk-toggleable__control:checked~div.sk-toggleable__content {max-height: 200px;max-width: 100%;overflow: auto;}#sk-container-id-6 input.sk-toggleable__control:checked~label.sk-toggleable__label-arrow:before {content: \"▾\";}#sk-container-id-6 div.sk-estimator input.sk-toggleable__control:checked~label.sk-toggleable__label {background-color: #d4ebff;}#sk-container-id-6 div.sk-label input.sk-toggleable__control:checked~label.sk-toggleable__label {background-color: #d4ebff;}#sk-container-id-6 input.sk-hidden--visually {border: 0;clip: rect(1px 1px 1px 1px);clip: rect(1px, 1px, 1px, 1px);height: 1px;margin: -1px;overflow: hidden;padding: 0;position: absolute;width: 1px;}#sk-container-id-6 div.sk-estimator {font-family: monospace;background-color: #f0f8ff;border: 1px dotted black;border-radius: 0.25em;box-sizing: border-box;margin-bottom: 0.5em;}#sk-container-id-6 div.sk-estimator:hover {background-color: #d4ebff;}#sk-container-id-6 div.sk-parallel-item::after {content: \"\";width: 100%;border-bottom: 1px solid gray;flex-grow: 1;}#sk-container-id-6 div.sk-label:hover label.sk-toggleable__label {background-color: #d4ebff;}#sk-container-id-6 div.sk-serial::before {content: \"\";position: absolute;border-left: 1px solid gray;box-sizing: border-box;top: 0;bottom: 0;left: 50%;z-index: 0;}#sk-container-id-6 div.sk-serial {display: flex;flex-direction: column;align-items: center;background-color: white;padding-right: 0.2em;padding-left: 0.2em;position: relative;}#sk-container-id-6 div.sk-item {position: relative;z-index: 1;}#sk-container-id-6 div.sk-parallel {display: flex;align-items: stretch;justify-content: center;background-color: white;position: relative;}#sk-container-id-6 div.sk-item::before, #sk-container-id-6 div.sk-parallel-item::before {content: \"\";position: absolute;border-left: 1px solid gray;box-sizing: border-box;top: 0;bottom: 0;left: 50%;z-index: -1;}#sk-container-id-6 div.sk-parallel-item {display: flex;flex-direction: column;z-index: 1;position: relative;background-color: white;}#sk-container-id-6 div.sk-parallel-item:first-child::after {align-self: flex-end;width: 50%;}#sk-container-id-6 div.sk-parallel-item:last-child::after {align-self: flex-start;width: 50%;}#sk-container-id-6 div.sk-parallel-item:only-child::after {width: 0;}#sk-container-id-6 div.sk-dashed-wrapped {border: 1px dashed gray;margin: 0 0.4em 0.5em 0.4em;box-sizing: border-box;padding-bottom: 0.4em;background-color: white;}#sk-container-id-6 div.sk-label label {font-family: monospace;font-weight: bold;display: inline-block;line-height: 1.2em;}#sk-container-id-6 div.sk-label-container {text-align: center;}#sk-container-id-6 div.sk-container {/* jupyter's `normalize.less` sets `[hidden] { display: none; }` but bootstrap.min.css set `[hidden] { display: none !important; }` so we also need the `!important` here to be able to override the default hidden behavior on the sphinx rendered scikit-learn.org. See: https://github.com/scikit-learn/scikit-learn/issues/21755 */display: inline-block !important;position: relative;}#sk-container-id-6 div.sk-text-repr-fallback {display: none;}</style><div id=\"sk-container-id-6\" class=\"sk-top-container\"><div class=\"sk-text-repr-fallback\"><pre>DecisionTreeClassifier()</pre><b>In a Jupyter environment, please rerun this cell to show the HTML representation or trust the notebook. <br />On GitHub, the HTML representation is unable to render, please try loading this page with nbviewer.org.</b></div><div class=\"sk-container\" hidden><div class=\"sk-item\"><div class=\"sk-estimator sk-toggleable\"><input class=\"sk-toggleable__control sk-hidden--visually\" id=\"sk-estimator-id-6\" type=\"checkbox\" checked><label for=\"sk-estimator-id-6\" class=\"sk-toggleable__label sk-toggleable__label-arrow\">DecisionTreeClassifier</label><div class=\"sk-toggleable__content\"><pre>DecisionTreeClassifier()</pre></div></div></div></div></div>"
            ]
          },
          "metadata": {},
          "execution_count": 156
        }
      ],
      "source": [
        "%time clf.fit(X_train, y_train)"
      ]
    },
    {
      "cell_type": "code",
      "execution_count": 157,
      "metadata": {
        "colab": {
          "base_uri": "https://localhost:8080/"
        },
        "id": "CcFPm3lU644i",
        "outputId": "8d1f7372-8529-4fb3-954d-877bcf3d4de2"
      },
      "outputs": [
        {
          "output_type": "stream",
          "name": "stdout",
          "text": [
            "CPU times: user 30.6 ms, sys: 997 µs, total: 31.6 ms\n",
            "Wall time: 31.5 ms\n"
          ]
        }
      ],
      "source": [
        "%time my_clf.fit(X_train, y_train)"
      ]
    },
    {
      "cell_type": "code",
      "execution_count": 157,
      "metadata": {
        "id": "ZpA4J7i0644i"
      },
      "outputs": [],
      "source": []
    },
    {
      "cell_type": "markdown",
      "metadata": {
        "id": "zZIXyjaU644i"
      },
      "source": [
        "## Боевое применение (3 балла)\n",
        "\n",
        "На практике Вы познакомились с датасетом Speed Dating Data. В нем каждая пара в быстрых свиданиях характеризуется определенным набором признаков. Задача -- предсказать, произойдет ли матч пары (колонка match).\n",
        "\n",
        "Данные и описания колонок во вложениях.\n",
        "\n",
        "Пример работы с датасетом можете найти в практике пункт 2\n",
        "https://github.com/VVVikulin/ml1.sphere/blob/master/2019-09/lecture_06/pract-trees.ipynb\n",
        "\n",
        "Либо воспользоваться функцией:"
      ]
    },
    {
      "cell_type": "code",
      "execution_count": 158,
      "metadata": {
        "id": "PlTMYsnN644i"
      },
      "outputs": [],
      "source": [
        "def preprocess_spd_data(df):\n",
        "    df = df.iloc[:, :97]\n",
        "    df = df.drop(['id', 'idg', 'condtn', 'round', 'position',\n",
        "                'positin1', 'order', 'partner', 'age_o', 'race_o',\n",
        "                'pf_o_att', 'pf_o_sin', 'pf_o_int', 'pf_o_fun',\n",
        "                'pf_o_amb', 'pf_o_sha', 'dec_o', 'attr_o',\n",
        "                'sinc_o', 'intel_o', 'fun_o', 'amb_o',\n",
        "                'shar_o', 'like_o', 'prob_o', 'met_o'], axis=1)\n",
        "\n",
        "    df = df.dropna(subset=['age'])\n",
        "    df.loc[:, 'field_cd'] = df.loc[:, 'field_cd'].fillna(19)\n",
        "    df = df.drop(['field'], axis=1)\n",
        "    df.loc[:, 'field_cd']\n",
        "    # pd.get_dummies(df, columns=['field_cd'], prefix='field_cd', prefix_sep='=')\n",
        "    df.loc[:, 'mn_sat'] = df.loc[:, 'mn_sat'].str.replace(',', '').astype(np.float64)\n",
        "    df.loc[:, 'mn_sat'] = df.mn_sat.fillna(-999)\n",
        "    df = df.drop(['undergra'], axis=1)\n",
        "    df.loc[:, 'tuition'] =\\\n",
        "        df.loc[:, 'tuition'].str.replace(',', '').astype(np.float64)\n",
        "    df.loc[:, 'tuition'] = df.tuition.fillna(-999)\n",
        "    df = df.dropna(subset=['imprelig', 'imprace'])\n",
        "    df = df.drop(['from', 'zipcode'], axis=1)\n",
        "    df.loc[:, 'income'] = df.loc[:, 'income'].str.replace(',', '').astype(np.float64)\n",
        "    df.loc[:, 'income'] = df.loc[:, 'income'].fillna(-999)\n",
        "    df = df.dropna(subset=['date'])\n",
        "    df.loc[:, 'career_c'] = df.loc[:, 'career_c'].fillna(18)\n",
        "    df = df.drop(['career'], axis=1)\n",
        "    df = df.drop(['sports', 'tvsports', 'exercise', 'dining',\n",
        "                'museums', 'art', 'hiking', 'gaming',\n",
        "                'clubbing', 'reading', 'tv', 'theater',\n",
        "                'movies', 'concerts', 'music', 'shopping', 'yoga'], axis=1)\n",
        "    df = df.drop(['expnum'], axis=1)\n",
        "\n",
        "    feat = ['iid', 'wave', 'attr1_1', 'sinc1_1',\n",
        "            'intel1_1', 'fun1_1', 'amb1_1', 'shar1_1']\n",
        "    temp = df.drop_duplicates(subset=['iid', 'wave']).loc[:, feat]\n",
        "    df.loc[:, 'temp_totalsum'] = df.loc[:, ['attr1_1', 'sinc1_1',\n",
        "                                            'intel1_1', 'fun1_1',\n",
        "                                            'amb1_1', 'shar1_1']].sum(axis=1)\n",
        "\n",
        "    df.loc[:, ['attr1_1', 'sinc1_1', 'intel1_1',\n",
        "            'fun1_1', 'amb1_1', 'shar1_1']] = (\n",
        "        df.loc[:, ['attr1_1', 'sinc1_1', 'intel1_1',\n",
        "                'fun1_1', 'amb1_1', 'shar1_1']].T /\n",
        "        df.loc[:, 'temp_totalsum'].T).T * 100\n",
        "\n",
        "    feat = ['iid', 'wave', 'attr2_1', 'sinc2_1',\n",
        "            'intel2_1', 'fun2_1', 'amb2_1', 'shar2_1']\n",
        "\n",
        "    temp = df.drop_duplicates(subset=['iid', 'wave']).loc[:, feat]\n",
        "    temp.loc[:, 'totalsum'] = temp.iloc[:, 2:].sum(axis=1)\n",
        "    df.loc[:, 'temp_totalsum'] = df.loc[:, ['attr2_1', 'sinc2_1',\n",
        "                                            'intel2_1', 'fun2_1',\n",
        "                                            'amb2_1', 'shar2_1']].sum(axis=1)\n",
        "\n",
        "    df.loc[:, ['attr2_1', 'sinc2_1',\n",
        "            'intel2_1', 'fun2_1',\n",
        "            'amb2_1', 'shar2_1']] = (\n",
        "        df.loc[:, ['attr2_1', 'sinc2_1', 'intel2_1',\n",
        "                'fun2_1', 'amb2_1', 'shar2_1']].T /\n",
        "        df.loc[:, 'temp_totalsum'].T).T * 100\n",
        "\n",
        "    df = df.drop(['temp_totalsum'], axis=1)\n",
        "\n",
        "    for i in [4, 5]:\n",
        "        feat = ['attr{}_1'.format(i), 'sinc{}_1'.format(i),\n",
        "                'intel{}_1'.format(i), 'fun{}_1'.format(i),\n",
        "                'amb{}_1'.format(i), 'shar{}_1'.format(i)]\n",
        "        if i != 4:\n",
        "            feat.remove('shar{}_1'.format(i))\n",
        "        df = df.drop(feat, axis=1)\n",
        "\n",
        "    df = df.drop(['wave'], axis=1)\n",
        "    df_male = df.query('gender == 1').drop_duplicates(subset=['iid', 'pid'])\\\n",
        "        .drop(['gender'], axis=1).dropna()\n",
        "\n",
        "    df_female = df.query('gender == 0').drop_duplicates(subset=['iid'])\\\n",
        "        .drop(['gender', 'match', 'int_corr', 'samerace'], axis=1).dropna()\n",
        "\n",
        "    df_female.columns = df_female.columns + '_f'\n",
        "\n",
        "    df_female = df_female.drop(['pid_f'], axis=1)\n",
        "    df_pair = df_male.join(df_female.set_index('iid_f'), on='pid', how='inner')\n",
        "    df_pair = df_pair.drop(['iid', 'pid'], axis=1)\n",
        "\n",
        "    X = df_pair.iloc[:, 1:].values\n",
        "    y = df_pair.iloc[:, 0].values\n",
        "\n",
        "    return X, y"
      ]
    },
    {
      "cell_type": "code",
      "source": [
        "def preprocess_spd_data(df):\n",
        "    df = df.iloc[:, :97]\n",
        "\n",
        "    to_drop = [\n",
        "        'id', 'idg', 'condtn', 'round', 'position', 'positin1', 'order', 'partner',\n",
        "        'age_o', 'race_o', 'pf_o_att', 'pf_o_sin', 'pf_o_int', 'pf_o_fun', 'pf_o_amb', 'pf_o_sha',\n",
        "        'dec_o', 'attr_o', 'sinc_o', 'intel_o', 'fun_o', 'amb_o', 'shar_o', 'like_o', 'prob_o','met_o',\n",
        "        'field', 'undergra', 'from', 'zipcode', 'income', 'career', 'sports', 'tvsports', 'exercise',\n",
        "        'dining', 'museums', 'art', 'hiking', 'gaming', 'clubbing', 'reading', 'tv', 'theater', 'movies',\n",
        "        'concerts', 'music', 'shopping', 'yoga', 'expnum',\n",
        "        'mn_sat', 'tuition'\n",
        "    ]\n",
        "\n",
        "    df = df.drop(to_drop, axis=1)\n",
        "    df = df.dropna(subset=['age', 'imprelig', 'imprace', 'date'])\n",
        "\n",
        "    df.loc[:, 'field_cd'] = df.loc[:, 'field_cd'].fillna(19)\n",
        "    df.loc[:, 'career_c'] = df.loc[:, 'career_c'].fillna(18)\n",
        "\n",
        "    # attr1 processing\n",
        "    df.loc[:, 'temp_totalsum'] = df.loc[:, ['attr1_1', 'sinc1_1', 'intel1_1', 'fun1_1',\n",
        "                                            'amb1_1', 'shar1_1']].sum(axis=1)\n",
        "    df.loc[:, ['attr1_1', 'sinc1_1', 'intel1_1', 'fun1_1', 'amb1_1', 'shar1_1']] =\\\n",
        "    (df.loc[:, ['attr1_1', 'sinc1_1', 'intel1_1', 'fun1_1', 'amb1_1', 'shar1_1']].T /\n",
        "     df.loc[:, 'temp_totalsum'].T).T * 100\n",
        "\n",
        "    # attr2 processing\n",
        "    df.loc[:, 'temp_totalsum'] = df.loc[:, ['attr2_1', 'sinc2_1', 'intel2_1', 'fun2_1',\n",
        "                                            'amb2_1', 'shar2_1']].sum(axis=1)\n",
        "    df.loc[:, ['attr2_1', 'sinc2_1', 'intel2_1', 'fun2_1', 'amb2_1', 'shar2_1']] =\\\n",
        "    (df.loc[:, ['attr2_1', 'sinc2_1', 'intel2_1', 'fun2_1', 'amb2_1', 'shar2_1']].T /\n",
        "     df.loc[:, 'temp_totalsum'].T).T * 100\n",
        "    df = df.drop(['temp_totalsum'], axis=1)\n",
        "\n",
        "    for i in [4, 5]:\n",
        "        feat = ['attr{}_1'.format(i), 'sinc{}_1'.format(i),\n",
        "                'intel{}_1'.format(i), 'fun{}_1'.format(i),\n",
        "                'amb{}_1'.format(i), 'shar{}_1'.format(i)]\n",
        "\n",
        "        if i != 4:\n",
        "            feat.remove('shar{}_1'.format(i))\n",
        "\n",
        "        df = df.drop(feat, axis=1)\n",
        "\n",
        "    df = df.drop(['wave'], axis=1)\n",
        "    df = df.dropna()\n",
        "\n",
        "    df_male = df.query('gender == 1').drop_duplicates(subset=['iid', 'pid'])\\\n",
        "        .drop(['gender'], axis=1).dropna()\n",
        "\n",
        "    df_female = df.query('gender == 0').drop_duplicates(subset=['iid'])\\\n",
        "        .drop(['gender', 'match', 'int_corr', 'samerace'], axis=1).dropna()\n",
        "\n",
        "    df_female.columns = df_female.columns + '_f'\n",
        "\n",
        "    df_female = df_female.drop(['pid_f'], axis=1)\n",
        "    df_pair = df_male.join(df_female.set_index('iid_f'), on='pid', how='inner')\n",
        "    df_pair = df_pair.drop(['iid', 'pid'], axis=1)\n",
        "\n",
        "    X = df_pair.iloc[:, 1:].values\n",
        "    y = df_pair.iloc[:, 0].values\n",
        "\n",
        "    return X, y"
      ],
      "metadata": {
        "id": "Vtxr7MOE_as5"
      },
      "execution_count": 159,
      "outputs": []
    },
    {
      "cell_type": "markdown",
      "metadata": {
        "id": "UTPOZK-H644i"
      },
      "source": [
        "Скачайте датасет, обработайте данные, как показано на семинаре или своим собственным способом. Обучите дерево классифкации. В качестве таргета возьмите колонку 'match'. Постарайтесь хорошо обработать признаки, чтобы выбить максимальную точность. Если точность будет близка к случайному гаданию, задание не будет защитано. В качестве метрики можно взять roc-auc.\n"
      ]
    },
    {
      "cell_type": "code",
      "source": [
        "# !unzip /content/archive.zip"
      ],
      "metadata": {
        "id": "xdV6bUrTAEbb"
      },
      "execution_count": 160,
      "outputs": []
    },
    {
      "cell_type": "code",
      "execution_count": 161,
      "metadata": {
        "colab": {
          "base_uri": "https://localhost:8080/",
          "height": 256
        },
        "id": "kQwWUg_c644i",
        "outputId": "0dbd46d1-cf68-4d22-ca56-e79e1d90028d"
      },
      "outputs": [
        {
          "output_type": "execute_result",
          "data": {
            "text/plain": [
              "   iid   id  gender  idg  condtn  wave  round  position  positin1  order  ...  \\\n",
              "0    1  1.0       0    1       1     1     10         7       NaN      4  ...   \n",
              "1    1  1.0       0    1       1     1     10         7       NaN      3  ...   \n",
              "2    1  1.0       0    1       1     1     10         7       NaN     10  ...   \n",
              "3    1  1.0       0    1       1     1     10         7       NaN      5  ...   \n",
              "4    1  1.0       0    1       1     1     10         7       NaN      7  ...   \n",
              "\n",
              "   attr3_3  sinc3_3  intel3_3  fun3_3  amb3_3  attr5_3  sinc5_3  intel5_3  \\\n",
              "0      5.0      7.0       7.0     7.0     7.0      NaN      NaN       NaN   \n",
              "1      5.0      7.0       7.0     7.0     7.0      NaN      NaN       NaN   \n",
              "2      5.0      7.0       7.0     7.0     7.0      NaN      NaN       NaN   \n",
              "3      5.0      7.0       7.0     7.0     7.0      NaN      NaN       NaN   \n",
              "4      5.0      7.0       7.0     7.0     7.0      NaN      NaN       NaN   \n",
              "\n",
              "   fun5_3  amb5_3  \n",
              "0     NaN     NaN  \n",
              "1     NaN     NaN  \n",
              "2     NaN     NaN  \n",
              "3     NaN     NaN  \n",
              "4     NaN     NaN  \n",
              "\n",
              "[5 rows x 195 columns]"
            ],
            "text/html": [
              "\n",
              "  <div id=\"df-5d137e3a-f6c4-4f0a-a10b-aa5eecd9f3c5\" class=\"colab-df-container\">\n",
              "    <div>\n",
              "<style scoped>\n",
              "    .dataframe tbody tr th:only-of-type {\n",
              "        vertical-align: middle;\n",
              "    }\n",
              "\n",
              "    .dataframe tbody tr th {\n",
              "        vertical-align: top;\n",
              "    }\n",
              "\n",
              "    .dataframe thead th {\n",
              "        text-align: right;\n",
              "    }\n",
              "</style>\n",
              "<table border=\"1\" class=\"dataframe\">\n",
              "  <thead>\n",
              "    <tr style=\"text-align: right;\">\n",
              "      <th></th>\n",
              "      <th>iid</th>\n",
              "      <th>id</th>\n",
              "      <th>gender</th>\n",
              "      <th>idg</th>\n",
              "      <th>condtn</th>\n",
              "      <th>wave</th>\n",
              "      <th>round</th>\n",
              "      <th>position</th>\n",
              "      <th>positin1</th>\n",
              "      <th>order</th>\n",
              "      <th>...</th>\n",
              "      <th>attr3_3</th>\n",
              "      <th>sinc3_3</th>\n",
              "      <th>intel3_3</th>\n",
              "      <th>fun3_3</th>\n",
              "      <th>amb3_3</th>\n",
              "      <th>attr5_3</th>\n",
              "      <th>sinc5_3</th>\n",
              "      <th>intel5_3</th>\n",
              "      <th>fun5_3</th>\n",
              "      <th>amb5_3</th>\n",
              "    </tr>\n",
              "  </thead>\n",
              "  <tbody>\n",
              "    <tr>\n",
              "      <th>0</th>\n",
              "      <td>1</td>\n",
              "      <td>1.0</td>\n",
              "      <td>0</td>\n",
              "      <td>1</td>\n",
              "      <td>1</td>\n",
              "      <td>1</td>\n",
              "      <td>10</td>\n",
              "      <td>7</td>\n",
              "      <td>NaN</td>\n",
              "      <td>4</td>\n",
              "      <td>...</td>\n",
              "      <td>5.0</td>\n",
              "      <td>7.0</td>\n",
              "      <td>7.0</td>\n",
              "      <td>7.0</td>\n",
              "      <td>7.0</td>\n",
              "      <td>NaN</td>\n",
              "      <td>NaN</td>\n",
              "      <td>NaN</td>\n",
              "      <td>NaN</td>\n",
              "      <td>NaN</td>\n",
              "    </tr>\n",
              "    <tr>\n",
              "      <th>1</th>\n",
              "      <td>1</td>\n",
              "      <td>1.0</td>\n",
              "      <td>0</td>\n",
              "      <td>1</td>\n",
              "      <td>1</td>\n",
              "      <td>1</td>\n",
              "      <td>10</td>\n",
              "      <td>7</td>\n",
              "      <td>NaN</td>\n",
              "      <td>3</td>\n",
              "      <td>...</td>\n",
              "      <td>5.0</td>\n",
              "      <td>7.0</td>\n",
              "      <td>7.0</td>\n",
              "      <td>7.0</td>\n",
              "      <td>7.0</td>\n",
              "      <td>NaN</td>\n",
              "      <td>NaN</td>\n",
              "      <td>NaN</td>\n",
              "      <td>NaN</td>\n",
              "      <td>NaN</td>\n",
              "    </tr>\n",
              "    <tr>\n",
              "      <th>2</th>\n",
              "      <td>1</td>\n",
              "      <td>1.0</td>\n",
              "      <td>0</td>\n",
              "      <td>1</td>\n",
              "      <td>1</td>\n",
              "      <td>1</td>\n",
              "      <td>10</td>\n",
              "      <td>7</td>\n",
              "      <td>NaN</td>\n",
              "      <td>10</td>\n",
              "      <td>...</td>\n",
              "      <td>5.0</td>\n",
              "      <td>7.0</td>\n",
              "      <td>7.0</td>\n",
              "      <td>7.0</td>\n",
              "      <td>7.0</td>\n",
              "      <td>NaN</td>\n",
              "      <td>NaN</td>\n",
              "      <td>NaN</td>\n",
              "      <td>NaN</td>\n",
              "      <td>NaN</td>\n",
              "    </tr>\n",
              "    <tr>\n",
              "      <th>3</th>\n",
              "      <td>1</td>\n",
              "      <td>1.0</td>\n",
              "      <td>0</td>\n",
              "      <td>1</td>\n",
              "      <td>1</td>\n",
              "      <td>1</td>\n",
              "      <td>10</td>\n",
              "      <td>7</td>\n",
              "      <td>NaN</td>\n",
              "      <td>5</td>\n",
              "      <td>...</td>\n",
              "      <td>5.0</td>\n",
              "      <td>7.0</td>\n",
              "      <td>7.0</td>\n",
              "      <td>7.0</td>\n",
              "      <td>7.0</td>\n",
              "      <td>NaN</td>\n",
              "      <td>NaN</td>\n",
              "      <td>NaN</td>\n",
              "      <td>NaN</td>\n",
              "      <td>NaN</td>\n",
              "    </tr>\n",
              "    <tr>\n",
              "      <th>4</th>\n",
              "      <td>1</td>\n",
              "      <td>1.0</td>\n",
              "      <td>0</td>\n",
              "      <td>1</td>\n",
              "      <td>1</td>\n",
              "      <td>1</td>\n",
              "      <td>10</td>\n",
              "      <td>7</td>\n",
              "      <td>NaN</td>\n",
              "      <td>7</td>\n",
              "      <td>...</td>\n",
              "      <td>5.0</td>\n",
              "      <td>7.0</td>\n",
              "      <td>7.0</td>\n",
              "      <td>7.0</td>\n",
              "      <td>7.0</td>\n",
              "      <td>NaN</td>\n",
              "      <td>NaN</td>\n",
              "      <td>NaN</td>\n",
              "      <td>NaN</td>\n",
              "      <td>NaN</td>\n",
              "    </tr>\n",
              "  </tbody>\n",
              "</table>\n",
              "<p>5 rows × 195 columns</p>\n",
              "</div>\n",
              "    <div class=\"colab-df-buttons\">\n",
              "\n",
              "  <div class=\"colab-df-container\">\n",
              "    <button class=\"colab-df-convert\" onclick=\"convertToInteractive('df-5d137e3a-f6c4-4f0a-a10b-aa5eecd9f3c5')\"\n",
              "            title=\"Convert this dataframe to an interactive table.\"\n",
              "            style=\"display:none;\">\n",
              "\n",
              "  <svg xmlns=\"http://www.w3.org/2000/svg\" height=\"24px\" viewBox=\"0 -960 960 960\">\n",
              "    <path d=\"M120-120v-720h720v720H120Zm60-500h600v-160H180v160Zm220 220h160v-160H400v160Zm0 220h160v-160H400v160ZM180-400h160v-160H180v160Zm440 0h160v-160H620v160ZM180-180h160v-160H180v160Zm440 0h160v-160H620v160Z\"/>\n",
              "  </svg>\n",
              "    </button>\n",
              "\n",
              "  <style>\n",
              "    .colab-df-container {\n",
              "      display:flex;\n",
              "      gap: 12px;\n",
              "    }\n",
              "\n",
              "    .colab-df-convert {\n",
              "      background-color: #E8F0FE;\n",
              "      border: none;\n",
              "      border-radius: 50%;\n",
              "      cursor: pointer;\n",
              "      display: none;\n",
              "      fill: #1967D2;\n",
              "      height: 32px;\n",
              "      padding: 0 0 0 0;\n",
              "      width: 32px;\n",
              "    }\n",
              "\n",
              "    .colab-df-convert:hover {\n",
              "      background-color: #E2EBFA;\n",
              "      box-shadow: 0px 1px 2px rgba(60, 64, 67, 0.3), 0px 1px 3px 1px rgba(60, 64, 67, 0.15);\n",
              "      fill: #174EA6;\n",
              "    }\n",
              "\n",
              "    .colab-df-buttons div {\n",
              "      margin-bottom: 4px;\n",
              "    }\n",
              "\n",
              "    [theme=dark] .colab-df-convert {\n",
              "      background-color: #3B4455;\n",
              "      fill: #D2E3FC;\n",
              "    }\n",
              "\n",
              "    [theme=dark] .colab-df-convert:hover {\n",
              "      background-color: #434B5C;\n",
              "      box-shadow: 0px 1px 3px 1px rgba(0, 0, 0, 0.15);\n",
              "      filter: drop-shadow(0px 1px 2px rgba(0, 0, 0, 0.3));\n",
              "      fill: #FFFFFF;\n",
              "    }\n",
              "  </style>\n",
              "\n",
              "    <script>\n",
              "      const buttonEl =\n",
              "        document.querySelector('#df-5d137e3a-f6c4-4f0a-a10b-aa5eecd9f3c5 button.colab-df-convert');\n",
              "      buttonEl.style.display =\n",
              "        google.colab.kernel.accessAllowed ? 'block' : 'none';\n",
              "\n",
              "      async function convertToInteractive(key) {\n",
              "        const element = document.querySelector('#df-5d137e3a-f6c4-4f0a-a10b-aa5eecd9f3c5');\n",
              "        const dataTable =\n",
              "          await google.colab.kernel.invokeFunction('convertToInteractive',\n",
              "                                                    [key], {});\n",
              "        if (!dataTable) return;\n",
              "\n",
              "        const docLinkHtml = 'Like what you see? Visit the ' +\n",
              "          '<a target=\"_blank\" href=https://colab.research.google.com/notebooks/data_table.ipynb>data table notebook</a>'\n",
              "          + ' to learn more about interactive tables.';\n",
              "        element.innerHTML = '';\n",
              "        dataTable['output_type'] = 'display_data';\n",
              "        await google.colab.output.renderOutput(dataTable, element);\n",
              "        const docLink = document.createElement('div');\n",
              "        docLink.innerHTML = docLinkHtml;\n",
              "        element.appendChild(docLink);\n",
              "      }\n",
              "    </script>\n",
              "  </div>\n",
              "\n",
              "\n",
              "<div id=\"df-308b3a8a-bf19-40c2-a21a-f7ebca5d6fad\">\n",
              "  <button class=\"colab-df-quickchart\" onclick=\"quickchart('df-308b3a8a-bf19-40c2-a21a-f7ebca5d6fad')\"\n",
              "            title=\"Suggest charts\"\n",
              "            style=\"display:none;\">\n",
              "\n",
              "<svg xmlns=\"http://www.w3.org/2000/svg\" height=\"24px\"viewBox=\"0 0 24 24\"\n",
              "     width=\"24px\">\n",
              "    <g>\n",
              "        <path d=\"M19 3H5c-1.1 0-2 .9-2 2v14c0 1.1.9 2 2 2h14c1.1 0 2-.9 2-2V5c0-1.1-.9-2-2-2zM9 17H7v-7h2v7zm4 0h-2V7h2v10zm4 0h-2v-4h2v4z\"/>\n",
              "    </g>\n",
              "</svg>\n",
              "  </button>\n",
              "\n",
              "<style>\n",
              "  .colab-df-quickchart {\n",
              "      --bg-color: #E8F0FE;\n",
              "      --fill-color: #1967D2;\n",
              "      --hover-bg-color: #E2EBFA;\n",
              "      --hover-fill-color: #174EA6;\n",
              "      --disabled-fill-color: #AAA;\n",
              "      --disabled-bg-color: #DDD;\n",
              "  }\n",
              "\n",
              "  [theme=dark] .colab-df-quickchart {\n",
              "      --bg-color: #3B4455;\n",
              "      --fill-color: #D2E3FC;\n",
              "      --hover-bg-color: #434B5C;\n",
              "      --hover-fill-color: #FFFFFF;\n",
              "      --disabled-bg-color: #3B4455;\n",
              "      --disabled-fill-color: #666;\n",
              "  }\n",
              "\n",
              "  .colab-df-quickchart {\n",
              "    background-color: var(--bg-color);\n",
              "    border: none;\n",
              "    border-radius: 50%;\n",
              "    cursor: pointer;\n",
              "    display: none;\n",
              "    fill: var(--fill-color);\n",
              "    height: 32px;\n",
              "    padding: 0;\n",
              "    width: 32px;\n",
              "  }\n",
              "\n",
              "  .colab-df-quickchart:hover {\n",
              "    background-color: var(--hover-bg-color);\n",
              "    box-shadow: 0 1px 2px rgba(60, 64, 67, 0.3), 0 1px 3px 1px rgba(60, 64, 67, 0.15);\n",
              "    fill: var(--button-hover-fill-color);\n",
              "  }\n",
              "\n",
              "  .colab-df-quickchart-complete:disabled,\n",
              "  .colab-df-quickchart-complete:disabled:hover {\n",
              "    background-color: var(--disabled-bg-color);\n",
              "    fill: var(--disabled-fill-color);\n",
              "    box-shadow: none;\n",
              "  }\n",
              "\n",
              "  .colab-df-spinner {\n",
              "    border: 2px solid var(--fill-color);\n",
              "    border-color: transparent;\n",
              "    border-bottom-color: var(--fill-color);\n",
              "    animation:\n",
              "      spin 1s steps(1) infinite;\n",
              "  }\n",
              "\n",
              "  @keyframes spin {\n",
              "    0% {\n",
              "      border-color: transparent;\n",
              "      border-bottom-color: var(--fill-color);\n",
              "      border-left-color: var(--fill-color);\n",
              "    }\n",
              "    20% {\n",
              "      border-color: transparent;\n",
              "      border-left-color: var(--fill-color);\n",
              "      border-top-color: var(--fill-color);\n",
              "    }\n",
              "    30% {\n",
              "      border-color: transparent;\n",
              "      border-left-color: var(--fill-color);\n",
              "      border-top-color: var(--fill-color);\n",
              "      border-right-color: var(--fill-color);\n",
              "    }\n",
              "    40% {\n",
              "      border-color: transparent;\n",
              "      border-right-color: var(--fill-color);\n",
              "      border-top-color: var(--fill-color);\n",
              "    }\n",
              "    60% {\n",
              "      border-color: transparent;\n",
              "      border-right-color: var(--fill-color);\n",
              "    }\n",
              "    80% {\n",
              "      border-color: transparent;\n",
              "      border-right-color: var(--fill-color);\n",
              "      border-bottom-color: var(--fill-color);\n",
              "    }\n",
              "    90% {\n",
              "      border-color: transparent;\n",
              "      border-bottom-color: var(--fill-color);\n",
              "    }\n",
              "  }\n",
              "</style>\n",
              "\n",
              "  <script>\n",
              "    async function quickchart(key) {\n",
              "      const quickchartButtonEl =\n",
              "        document.querySelector('#' + key + ' button');\n",
              "      quickchartButtonEl.disabled = true;  // To prevent multiple clicks.\n",
              "      quickchartButtonEl.classList.add('colab-df-spinner');\n",
              "      try {\n",
              "        const charts = await google.colab.kernel.invokeFunction(\n",
              "            'suggestCharts', [key], {});\n",
              "      } catch (error) {\n",
              "        console.error('Error during call to suggestCharts:', error);\n",
              "      }\n",
              "      quickchartButtonEl.classList.remove('colab-df-spinner');\n",
              "      quickchartButtonEl.classList.add('colab-df-quickchart-complete');\n",
              "    }\n",
              "    (() => {\n",
              "      let quickchartButtonEl =\n",
              "        document.querySelector('#df-308b3a8a-bf19-40c2-a21a-f7ebca5d6fad button');\n",
              "      quickchartButtonEl.style.display =\n",
              "        google.colab.kernel.accessAllowed ? 'block' : 'none';\n",
              "    })();\n",
              "  </script>\n",
              "</div>\n",
              "    </div>\n",
              "  </div>\n"
            ]
          },
          "metadata": {},
          "execution_count": 161
        }
      ],
      "source": [
        "path = '/content/Speed Dating Data.csv'\n",
        "df = pd.read_csv(path, encoding='cp1251')\n",
        "df.head()"
      ]
    },
    {
      "cell_type": "code",
      "source": [
        "X, y = preprocess_spd_data(df)\n",
        "df.head()"
      ],
      "metadata": {
        "colab": {
          "base_uri": "https://localhost:8080/",
          "height": 256
        },
        "id": "xjfI3SRsBB1k",
        "outputId": "bf836329-cce7-44ea-85ae-5ecea80e1284"
      },
      "execution_count": 162,
      "outputs": [
        {
          "output_type": "execute_result",
          "data": {
            "text/plain": [
              "   iid   id  gender  idg  condtn  wave  round  position  positin1  order  ...  \\\n",
              "0    1  1.0       0    1       1     1     10         7       NaN      4  ...   \n",
              "1    1  1.0       0    1       1     1     10         7       NaN      3  ...   \n",
              "2    1  1.0       0    1       1     1     10         7       NaN     10  ...   \n",
              "3    1  1.0       0    1       1     1     10         7       NaN      5  ...   \n",
              "4    1  1.0       0    1       1     1     10         7       NaN      7  ...   \n",
              "\n",
              "   attr3_3  sinc3_3  intel3_3  fun3_3  amb3_3  attr5_3  sinc5_3  intel5_3  \\\n",
              "0      5.0      7.0       7.0     7.0     7.0      NaN      NaN       NaN   \n",
              "1      5.0      7.0       7.0     7.0     7.0      NaN      NaN       NaN   \n",
              "2      5.0      7.0       7.0     7.0     7.0      NaN      NaN       NaN   \n",
              "3      5.0      7.0       7.0     7.0     7.0      NaN      NaN       NaN   \n",
              "4      5.0      7.0       7.0     7.0     7.0      NaN      NaN       NaN   \n",
              "\n",
              "   fun5_3  amb5_3  \n",
              "0     NaN     NaN  \n",
              "1     NaN     NaN  \n",
              "2     NaN     NaN  \n",
              "3     NaN     NaN  \n",
              "4     NaN     NaN  \n",
              "\n",
              "[5 rows x 195 columns]"
            ],
            "text/html": [
              "\n",
              "  <div id=\"df-82bd6877-0e41-4ef7-8b7b-961491c05cba\" class=\"colab-df-container\">\n",
              "    <div>\n",
              "<style scoped>\n",
              "    .dataframe tbody tr th:only-of-type {\n",
              "        vertical-align: middle;\n",
              "    }\n",
              "\n",
              "    .dataframe tbody tr th {\n",
              "        vertical-align: top;\n",
              "    }\n",
              "\n",
              "    .dataframe thead th {\n",
              "        text-align: right;\n",
              "    }\n",
              "</style>\n",
              "<table border=\"1\" class=\"dataframe\">\n",
              "  <thead>\n",
              "    <tr style=\"text-align: right;\">\n",
              "      <th></th>\n",
              "      <th>iid</th>\n",
              "      <th>id</th>\n",
              "      <th>gender</th>\n",
              "      <th>idg</th>\n",
              "      <th>condtn</th>\n",
              "      <th>wave</th>\n",
              "      <th>round</th>\n",
              "      <th>position</th>\n",
              "      <th>positin1</th>\n",
              "      <th>order</th>\n",
              "      <th>...</th>\n",
              "      <th>attr3_3</th>\n",
              "      <th>sinc3_3</th>\n",
              "      <th>intel3_3</th>\n",
              "      <th>fun3_3</th>\n",
              "      <th>amb3_3</th>\n",
              "      <th>attr5_3</th>\n",
              "      <th>sinc5_3</th>\n",
              "      <th>intel5_3</th>\n",
              "      <th>fun5_3</th>\n",
              "      <th>amb5_3</th>\n",
              "    </tr>\n",
              "  </thead>\n",
              "  <tbody>\n",
              "    <tr>\n",
              "      <th>0</th>\n",
              "      <td>1</td>\n",
              "      <td>1.0</td>\n",
              "      <td>0</td>\n",
              "      <td>1</td>\n",
              "      <td>1</td>\n",
              "      <td>1</td>\n",
              "      <td>10</td>\n",
              "      <td>7</td>\n",
              "      <td>NaN</td>\n",
              "      <td>4</td>\n",
              "      <td>...</td>\n",
              "      <td>5.0</td>\n",
              "      <td>7.0</td>\n",
              "      <td>7.0</td>\n",
              "      <td>7.0</td>\n",
              "      <td>7.0</td>\n",
              "      <td>NaN</td>\n",
              "      <td>NaN</td>\n",
              "      <td>NaN</td>\n",
              "      <td>NaN</td>\n",
              "      <td>NaN</td>\n",
              "    </tr>\n",
              "    <tr>\n",
              "      <th>1</th>\n",
              "      <td>1</td>\n",
              "      <td>1.0</td>\n",
              "      <td>0</td>\n",
              "      <td>1</td>\n",
              "      <td>1</td>\n",
              "      <td>1</td>\n",
              "      <td>10</td>\n",
              "      <td>7</td>\n",
              "      <td>NaN</td>\n",
              "      <td>3</td>\n",
              "      <td>...</td>\n",
              "      <td>5.0</td>\n",
              "      <td>7.0</td>\n",
              "      <td>7.0</td>\n",
              "      <td>7.0</td>\n",
              "      <td>7.0</td>\n",
              "      <td>NaN</td>\n",
              "      <td>NaN</td>\n",
              "      <td>NaN</td>\n",
              "      <td>NaN</td>\n",
              "      <td>NaN</td>\n",
              "    </tr>\n",
              "    <tr>\n",
              "      <th>2</th>\n",
              "      <td>1</td>\n",
              "      <td>1.0</td>\n",
              "      <td>0</td>\n",
              "      <td>1</td>\n",
              "      <td>1</td>\n",
              "      <td>1</td>\n",
              "      <td>10</td>\n",
              "      <td>7</td>\n",
              "      <td>NaN</td>\n",
              "      <td>10</td>\n",
              "      <td>...</td>\n",
              "      <td>5.0</td>\n",
              "      <td>7.0</td>\n",
              "      <td>7.0</td>\n",
              "      <td>7.0</td>\n",
              "      <td>7.0</td>\n",
              "      <td>NaN</td>\n",
              "      <td>NaN</td>\n",
              "      <td>NaN</td>\n",
              "      <td>NaN</td>\n",
              "      <td>NaN</td>\n",
              "    </tr>\n",
              "    <tr>\n",
              "      <th>3</th>\n",
              "      <td>1</td>\n",
              "      <td>1.0</td>\n",
              "      <td>0</td>\n",
              "      <td>1</td>\n",
              "      <td>1</td>\n",
              "      <td>1</td>\n",
              "      <td>10</td>\n",
              "      <td>7</td>\n",
              "      <td>NaN</td>\n",
              "      <td>5</td>\n",
              "      <td>...</td>\n",
              "      <td>5.0</td>\n",
              "      <td>7.0</td>\n",
              "      <td>7.0</td>\n",
              "      <td>7.0</td>\n",
              "      <td>7.0</td>\n",
              "      <td>NaN</td>\n",
              "      <td>NaN</td>\n",
              "      <td>NaN</td>\n",
              "      <td>NaN</td>\n",
              "      <td>NaN</td>\n",
              "    </tr>\n",
              "    <tr>\n",
              "      <th>4</th>\n",
              "      <td>1</td>\n",
              "      <td>1.0</td>\n",
              "      <td>0</td>\n",
              "      <td>1</td>\n",
              "      <td>1</td>\n",
              "      <td>1</td>\n",
              "      <td>10</td>\n",
              "      <td>7</td>\n",
              "      <td>NaN</td>\n",
              "      <td>7</td>\n",
              "      <td>...</td>\n",
              "      <td>5.0</td>\n",
              "      <td>7.0</td>\n",
              "      <td>7.0</td>\n",
              "      <td>7.0</td>\n",
              "      <td>7.0</td>\n",
              "      <td>NaN</td>\n",
              "      <td>NaN</td>\n",
              "      <td>NaN</td>\n",
              "      <td>NaN</td>\n",
              "      <td>NaN</td>\n",
              "    </tr>\n",
              "  </tbody>\n",
              "</table>\n",
              "<p>5 rows × 195 columns</p>\n",
              "</div>\n",
              "    <div class=\"colab-df-buttons\">\n",
              "\n",
              "  <div class=\"colab-df-container\">\n",
              "    <button class=\"colab-df-convert\" onclick=\"convertToInteractive('df-82bd6877-0e41-4ef7-8b7b-961491c05cba')\"\n",
              "            title=\"Convert this dataframe to an interactive table.\"\n",
              "            style=\"display:none;\">\n",
              "\n",
              "  <svg xmlns=\"http://www.w3.org/2000/svg\" height=\"24px\" viewBox=\"0 -960 960 960\">\n",
              "    <path d=\"M120-120v-720h720v720H120Zm60-500h600v-160H180v160Zm220 220h160v-160H400v160Zm0 220h160v-160H400v160ZM180-400h160v-160H180v160Zm440 0h160v-160H620v160ZM180-180h160v-160H180v160Zm440 0h160v-160H620v160Z\"/>\n",
              "  </svg>\n",
              "    </button>\n",
              "\n",
              "  <style>\n",
              "    .colab-df-container {\n",
              "      display:flex;\n",
              "      gap: 12px;\n",
              "    }\n",
              "\n",
              "    .colab-df-convert {\n",
              "      background-color: #E8F0FE;\n",
              "      border: none;\n",
              "      border-radius: 50%;\n",
              "      cursor: pointer;\n",
              "      display: none;\n",
              "      fill: #1967D2;\n",
              "      height: 32px;\n",
              "      padding: 0 0 0 0;\n",
              "      width: 32px;\n",
              "    }\n",
              "\n",
              "    .colab-df-convert:hover {\n",
              "      background-color: #E2EBFA;\n",
              "      box-shadow: 0px 1px 2px rgba(60, 64, 67, 0.3), 0px 1px 3px 1px rgba(60, 64, 67, 0.15);\n",
              "      fill: #174EA6;\n",
              "    }\n",
              "\n",
              "    .colab-df-buttons div {\n",
              "      margin-bottom: 4px;\n",
              "    }\n",
              "\n",
              "    [theme=dark] .colab-df-convert {\n",
              "      background-color: #3B4455;\n",
              "      fill: #D2E3FC;\n",
              "    }\n",
              "\n",
              "    [theme=dark] .colab-df-convert:hover {\n",
              "      background-color: #434B5C;\n",
              "      box-shadow: 0px 1px 3px 1px rgba(0, 0, 0, 0.15);\n",
              "      filter: drop-shadow(0px 1px 2px rgba(0, 0, 0, 0.3));\n",
              "      fill: #FFFFFF;\n",
              "    }\n",
              "  </style>\n",
              "\n",
              "    <script>\n",
              "      const buttonEl =\n",
              "        document.querySelector('#df-82bd6877-0e41-4ef7-8b7b-961491c05cba button.colab-df-convert');\n",
              "      buttonEl.style.display =\n",
              "        google.colab.kernel.accessAllowed ? 'block' : 'none';\n",
              "\n",
              "      async function convertToInteractive(key) {\n",
              "        const element = document.querySelector('#df-82bd6877-0e41-4ef7-8b7b-961491c05cba');\n",
              "        const dataTable =\n",
              "          await google.colab.kernel.invokeFunction('convertToInteractive',\n",
              "                                                    [key], {});\n",
              "        if (!dataTable) return;\n",
              "\n",
              "        const docLinkHtml = 'Like what you see? Visit the ' +\n",
              "          '<a target=\"_blank\" href=https://colab.research.google.com/notebooks/data_table.ipynb>data table notebook</a>'\n",
              "          + ' to learn more about interactive tables.';\n",
              "        element.innerHTML = '';\n",
              "        dataTable['output_type'] = 'display_data';\n",
              "        await google.colab.output.renderOutput(dataTable, element);\n",
              "        const docLink = document.createElement('div');\n",
              "        docLink.innerHTML = docLinkHtml;\n",
              "        element.appendChild(docLink);\n",
              "      }\n",
              "    </script>\n",
              "  </div>\n",
              "\n",
              "\n",
              "<div id=\"df-922aeb74-a830-4c01-831e-877ddf665c92\">\n",
              "  <button class=\"colab-df-quickchart\" onclick=\"quickchart('df-922aeb74-a830-4c01-831e-877ddf665c92')\"\n",
              "            title=\"Suggest charts\"\n",
              "            style=\"display:none;\">\n",
              "\n",
              "<svg xmlns=\"http://www.w3.org/2000/svg\" height=\"24px\"viewBox=\"0 0 24 24\"\n",
              "     width=\"24px\">\n",
              "    <g>\n",
              "        <path d=\"M19 3H5c-1.1 0-2 .9-2 2v14c0 1.1.9 2 2 2h14c1.1 0 2-.9 2-2V5c0-1.1-.9-2-2-2zM9 17H7v-7h2v7zm4 0h-2V7h2v10zm4 0h-2v-4h2v4z\"/>\n",
              "    </g>\n",
              "</svg>\n",
              "  </button>\n",
              "\n",
              "<style>\n",
              "  .colab-df-quickchart {\n",
              "      --bg-color: #E8F0FE;\n",
              "      --fill-color: #1967D2;\n",
              "      --hover-bg-color: #E2EBFA;\n",
              "      --hover-fill-color: #174EA6;\n",
              "      --disabled-fill-color: #AAA;\n",
              "      --disabled-bg-color: #DDD;\n",
              "  }\n",
              "\n",
              "  [theme=dark] .colab-df-quickchart {\n",
              "      --bg-color: #3B4455;\n",
              "      --fill-color: #D2E3FC;\n",
              "      --hover-bg-color: #434B5C;\n",
              "      --hover-fill-color: #FFFFFF;\n",
              "      --disabled-bg-color: #3B4455;\n",
              "      --disabled-fill-color: #666;\n",
              "  }\n",
              "\n",
              "  .colab-df-quickchart {\n",
              "    background-color: var(--bg-color);\n",
              "    border: none;\n",
              "    border-radius: 50%;\n",
              "    cursor: pointer;\n",
              "    display: none;\n",
              "    fill: var(--fill-color);\n",
              "    height: 32px;\n",
              "    padding: 0;\n",
              "    width: 32px;\n",
              "  }\n",
              "\n",
              "  .colab-df-quickchart:hover {\n",
              "    background-color: var(--hover-bg-color);\n",
              "    box-shadow: 0 1px 2px rgba(60, 64, 67, 0.3), 0 1px 3px 1px rgba(60, 64, 67, 0.15);\n",
              "    fill: var(--button-hover-fill-color);\n",
              "  }\n",
              "\n",
              "  .colab-df-quickchart-complete:disabled,\n",
              "  .colab-df-quickchart-complete:disabled:hover {\n",
              "    background-color: var(--disabled-bg-color);\n",
              "    fill: var(--disabled-fill-color);\n",
              "    box-shadow: none;\n",
              "  }\n",
              "\n",
              "  .colab-df-spinner {\n",
              "    border: 2px solid var(--fill-color);\n",
              "    border-color: transparent;\n",
              "    border-bottom-color: var(--fill-color);\n",
              "    animation:\n",
              "      spin 1s steps(1) infinite;\n",
              "  }\n",
              "\n",
              "  @keyframes spin {\n",
              "    0% {\n",
              "      border-color: transparent;\n",
              "      border-bottom-color: var(--fill-color);\n",
              "      border-left-color: var(--fill-color);\n",
              "    }\n",
              "    20% {\n",
              "      border-color: transparent;\n",
              "      border-left-color: var(--fill-color);\n",
              "      border-top-color: var(--fill-color);\n",
              "    }\n",
              "    30% {\n",
              "      border-color: transparent;\n",
              "      border-left-color: var(--fill-color);\n",
              "      border-top-color: var(--fill-color);\n",
              "      border-right-color: var(--fill-color);\n",
              "    }\n",
              "    40% {\n",
              "      border-color: transparent;\n",
              "      border-right-color: var(--fill-color);\n",
              "      border-top-color: var(--fill-color);\n",
              "    }\n",
              "    60% {\n",
              "      border-color: transparent;\n",
              "      border-right-color: var(--fill-color);\n",
              "    }\n",
              "    80% {\n",
              "      border-color: transparent;\n",
              "      border-right-color: var(--fill-color);\n",
              "      border-bottom-color: var(--fill-color);\n",
              "    }\n",
              "    90% {\n",
              "      border-color: transparent;\n",
              "      border-bottom-color: var(--fill-color);\n",
              "    }\n",
              "  }\n",
              "</style>\n",
              "\n",
              "  <script>\n",
              "    async function quickchart(key) {\n",
              "      const quickchartButtonEl =\n",
              "        document.querySelector('#' + key + ' button');\n",
              "      quickchartButtonEl.disabled = true;  // To prevent multiple clicks.\n",
              "      quickchartButtonEl.classList.add('colab-df-spinner');\n",
              "      try {\n",
              "        const charts = await google.colab.kernel.invokeFunction(\n",
              "            'suggestCharts', [key], {});\n",
              "      } catch (error) {\n",
              "        console.error('Error during call to suggestCharts:', error);\n",
              "      }\n",
              "      quickchartButtonEl.classList.remove('colab-df-spinner');\n",
              "      quickchartButtonEl.classList.add('colab-df-quickchart-complete');\n",
              "    }\n",
              "    (() => {\n",
              "      let quickchartButtonEl =\n",
              "        document.querySelector('#df-922aeb74-a830-4c01-831e-877ddf665c92 button');\n",
              "      quickchartButtonEl.style.display =\n",
              "        google.colab.kernel.accessAllowed ? 'block' : 'none';\n",
              "    })();\n",
              "  </script>\n",
              "</div>\n",
              "    </div>\n",
              "  </div>\n"
            ]
          },
          "metadata": {},
          "execution_count": 162
        }
      ]
    },
    {
      "cell_type": "markdown",
      "metadata": {
        "id": "XJg9PwHb644i"
      },
      "source": [
        "Разбейте датасет на трейн и валидацию. Подберите на валидации оптимальный критерий  информативности.\n",
        "Постройте графики зависимости точности на валидации и трейне от глубины дерева, от минимального числа объектов для сплита. (Т.е должно быть 2 графика, на каждой должны быть 2 кривые - для трейна и валидации)\n",
        "Какой максимальной точности удалось достигнуть?"
      ]
    },
    {
      "cell_type": "code",
      "execution_count": 163,
      "metadata": {
        "collapsed": true,
        "jupyter": {
          "outputs_hidden": true
        },
        "id": "COlGZ20_644i"
      },
      "outputs": [],
      "source": [
        "X_train, X_val, y_train, y_val = train_test_split(X,\n",
        "                                                  y,\n",
        "                                                  test_size=0.1,\n",
        "                                                  stratify=y)"
      ]
    },
    {
      "cell_type": "code",
      "source": [
        "X_train"
      ],
      "metadata": {
        "colab": {
          "base_uri": "https://localhost:8080/"
        },
        "id": "ka7I5iRDCQtW",
        "outputId": "dd2e4089-d12d-49f0-f5d1-b31501d2cfa1"
      },
      "execution_count": 164,
      "outputs": [
        {
          "output_type": "execute_result",
          "data": {
            "text/plain": [
              "array([[ 0.62,  1.  , 31.  , ...,  6.  ,  8.  ,  6.  ],\n",
              "       [ 0.25,  0.  , 33.  , ...,  9.  ,  8.  ,  8.  ],\n",
              "       [-0.15,  0.  , 25.  , ...,  9.  , 10.  ,  8.  ],\n",
              "       ...,\n",
              "       [ 0.05,  0.  , 28.  , ...,  8.  ,  9.  ,  5.  ],\n",
              "       [-0.05,  0.  , 27.  , ...,  7.  ,  8.  ,  6.  ],\n",
              "       [ 0.5 ,  0.  , 24.  , ...,  6.  ,  8.  ,  4.  ]])"
            ]
          },
          "metadata": {},
          "execution_count": 164
        }
      ]
    },
    {
      "cell_type": "code",
      "source": [
        "criterions = ['gini','clf_error', 'entropy']\n",
        "for criterion in criterions:\n",
        "    my_clf = MyDecisionTreeClassifier(min_samples_split=2, max_depth=8, criterion=criterion)\n",
        "    my_clf.fit(X_train, y_train)\n",
        "    print(roc_auc_score(y_val, my_clf.predict(X_val)))\n"
      ],
      "metadata": {
        "colab": {
          "base_uri": "https://localhost:8080/"
        },
        "id": "cLw3BlZEFS6v",
        "outputId": "9028e118-9855-4eb5-ea0b-59993ea6d498"
      },
      "execution_count": 165,
      "outputs": [
        {
          "output_type": "stream",
          "name": "stdout",
          "text": [
            "0.5\n",
            "0.5\n",
            "0.4972445464982778\n"
          ]
        }
      ]
    },
    {
      "cell_type": "code",
      "source": [
        "from tqdm import tqdm\n",
        "depths = [i for i in range(1, 50, 2)]\n",
        "\n",
        "train_roc_auc = []\n",
        "val_roc_auc = []\n",
        "\n",
        "for depth in tqdm(depths):\n",
        "    my_clf = MyDecisionTreeClassifier(criterion='entropy', min_samples_split=1, max_depth=depth)\n",
        "    my_clf.fit(X_train, y_train)\n",
        "    train_roc_auc.append(roc_auc_score(y_train, my_clf.predict(X_train)))\n",
        "    val_roc_auc.append(roc_auc_score(y_val, my_clf.predict(X_val)))"
      ],
      "metadata": {
        "colab": {
          "base_uri": "https://localhost:8080/"
        },
        "id": "50KJ7RquIQuE",
        "outputId": "a3853d12-7e70-448d-a0d9-0e04e6c17760"
      },
      "execution_count": 193,
      "outputs": [
        {
          "output_type": "stream",
          "name": "stderr",
          "text": [
            "100%|██████████| 25/25 [00:29<00:00,  1.17s/it]\n"
          ]
        }
      ]
    },
    {
      "cell_type": "code",
      "source": [
        "fig, axs = plt.subplots(nrows=2, ncols=1)\n",
        "\n",
        "X = np.arange(len(train_roc_auc))\n",
        "\n",
        "axs[0].plot(X, train_roc_auc)\n",
        "axs[1].plot(X, val_roc_auc)\n",
        "\n",
        "plt.plot()"
      ],
      "metadata": {
        "colab": {
          "base_uri": "https://localhost:8080/",
          "height": 449
        },
        "id": "j1AD_owBBTo8",
        "outputId": "a626b640-9a4f-4a4b-acc7-ae5864f2e479"
      },
      "execution_count": 194,
      "outputs": [
        {
          "output_type": "execute_result",
          "data": {
            "text/plain": [
              "[]"
            ]
          },
          "metadata": {},
          "execution_count": 194
        },
        {
          "output_type": "display_data",
          "data": {
            "text/plain": [
              "<Figure size 640x480 with 2 Axes>"
            ],
            "image/png": "[encoded data removed]"
          },
          "metadata": {}
        }
      ]
    },
    {
      "cell_type": "code",
      "source": [
        "min_smaples_splits = [i for i in range(0, 10)]\n",
        "\n",
        "train_roc_auc = []\n",
        "val_roc_auc = []\n",
        "\n",
        "for mss in min_smaples_splits:\n",
        "    my_clf = MyDecisionTreeClassifier(criterion='entropy', min_samples_split=mss, max_depth=5)\n",
        "    my_clf.fit(X_train, y_train)\n",
        "    train_roc_auc.append(roc_auc_score(y_train, my_clf.predict(X_train)))\n",
        "    val_roc_auc.append(roc_auc_score(y_train, my_clf.predict(X_train)))"
      ],
      "metadata": {
        "colab": {
          "base_uri": "https://localhost:8080/"
        },
        "id": "Elll89HXCDXG",
        "outputId": "442f9317-8492-4901-fb37-1d4e8c6b4d08"
      },
      "execution_count": 191,
      "outputs": [
        {
          "output_type": "stream",
          "name": "stderr",
          "text": [
            "<ipython-input-149-fdb906225935>:78: RuntimeWarning: invalid value encountered in log2\n",
            "  H = -np.sum((np.log2((l_class + 1e-6) / l_size) * (l_class + 1e-6) +\n"
          ]
        }
      ]
    },
    {
      "cell_type": "code",
      "source": [
        "fig, axs = plt.subplots(nrows=2, ncols=1)\n",
        "\n",
        "X = np.arange(len(train_roc_auc))\n",
        "\n",
        "axs[0].plot(X, train_roc_auc)\n",
        "axs[1].plot(X, val_roc_auc)\n",
        "\n",
        "plt.plot()"
      ],
      "metadata": {
        "colab": {
          "base_uri": "https://localhost:8080/",
          "height": 448
        },
        "id": "OYUj7DxMCLe3",
        "outputId": "db844702-ea8e-4513-9286-7631dd3be5d4"
      },
      "execution_count": 192,
      "outputs": [
        {
          "output_type": "execute_result",
          "data": {
            "text/plain": [
              "[]"
            ]
          },
          "metadata": {},
          "execution_count": 192
        },
        {
          "output_type": "display_data",
          "data": {
            "text/plain": [
              "<Figure size 640x480 with 2 Axes>"
            ],
            "image/png": "[encoded data removed]"
          },
          "metadata": {}
        }
      ]
    },
    {
      "cell_type": "markdown",
      "metadata": {
        "id": "V95AUfF0644j"
      },
      "source": [
        "Известным фактом является то, что деревья решений сильно переобучаются при увеличении глубины и просто запоминают трейн.\n",
        "Замечаете ли вы такой эффект судя по графикам? Что при этом происходит с качеством на валидации?\n",
        "\n",
        "\n",
        "Ответ: Судя по графикам глубины, переобучение начинается примерно с 16 шага. Качество на валидации падает, а качество на трейне выходит на плато."
      ]
    },
    {
      "cell_type": "markdown",
      "metadata": {
        "id": "hHUDpxbA644j"
      },
      "source": [
        "## Находим самые важные признаки (2 балла)\n",
        "\n"
      ]
    },
    {
      "cell_type": "markdown",
      "metadata": {
        "id": "nPcJtwXV644j"
      },
      "source": [
        "По построенному дереву  легко понять, какие признаки лучше всего помогли решить задачу. Часто это бывает нужно  не только  для сокращения размерности в данных, но и для лучшего понимания прикладной задачи. Например, Вы хотите понять, какие признаки стоит еще конструировать -- для этого нужно понимать, какие из текущих лучше всего работают в дереве."
      ]
    },
    {
      "cell_type": "markdown",
      "metadata": {
        "id": "HlFss8Bj644j"
      },
      "source": [
        "Самый простой метод -- посчитать число сплитов, где использовался данные признак. Это не лучший вариант, так как по признаку который принимает всего 2 значения, но который почти точно разделяет выборку, число сплитов будет очень 1, но при этом признак сам очень хороший.\n",
        "В этом задании предлагается для каждого признака считать суммарный gain (в лекции обозначено как Q) при использовании этого признака в сплите. Тогда даже у очень хороших признаков с маленьким число сплитов это значение должно быть довольно высоким.  "
      ]
    },
    {
      "cell_type": "markdown",
      "metadata": {
        "id": "Uv6Lo9mA644j"
      },
      "source": [
        "Реализовать это довольно просто: создаете словарь номер фичи : суммарный гейн и добавляете в нужную фичу каждый раз, когда используете ее при построении дерева."
      ]
    },
    {
      "cell_type": "markdown",
      "metadata": {
        "id": "jqUYlkw8644j"
      },
      "source": [
        "Добавьте функционал, который определяет значения feature importance. Обучите дерево на датасете Speed Dating Data.\n",
        "Выведите 10 главных фичей по важности."
      ]
    },
    {
      "cell_type": "code",
      "execution_count": 210,
      "metadata": {
        "id": "Hv0l4nM4644j"
      },
      "outputs": [],
      "source": [
        "my_clf = MyDecisionTreeClassifier(criterion='entropy', min_samples_split=2, max_depth=depth)\n",
        "\n",
        "my_clf.fit(X_train, y_train)\n",
        "\n",
        "feat_imp = my_clf.get_feature_importance()\n",
        "sorted_feat_imp = sorted(feat_imp.items(), key=lambda item: item[1].any())[:10]\n"
      ]
    },
    {
      "cell_type": "code",
      "execution_count": 217,
      "metadata": {
        "colab": {
          "base_uri": "https://localhost:8080/"
        },
        "id": "f8sZCCoh644j",
        "outputId": "9ea99ddd-df99-4d23-f64c-e64151b8ffb6"
      },
      "outputs": [
        {
          "output_type": "stream",
          "name": "stdout",
          "text": [
            "8\n",
            "4\n",
            "0\n",
            "20\n",
            "49\n",
            "46\n",
            "35\n",
            "1\n",
            "51\n",
            "54\n"
          ]
        }
      ],
      "source": [
        "for item in sorted_feat_imp:\n",
        "    print(item[0])"
      ]
    },
    {
      "cell_type": "markdown",
      "metadata": {
        "id": "2c_Og635644j"
      },
      "source": [
        "## Фидбек (бесценно)"
      ]
    },
    {
      "cell_type": "markdown",
      "metadata": {
        "id": "BN9nWHK4644j"
      },
      "source": [
        "* Какие аспекты обучения деревьев решений Вам показались непонятными? Какое место стоит дополнительно объяснить?"
      ]
    },
    {
      "cell_type": "markdown",
      "metadata": {
        "id": "xRReRKWE644k"
      },
      "source": [
        "### Ваш ответ здесь"
      ]
    },
    {
      "cell_type": "markdown",
      "metadata": {
        "id": "kYPdQFLk644k"
      },
      "source": [
        "* Здесь Вы можете оставить отзыв о этой домашней работе или о всем курсе."
      ]
    },
    {
      "cell_type": "markdown",
      "metadata": {
        "id": "qecSfl8a644k"
      },
      "source": [
        "### ВАШ ОТЗЫВ ЗДЕСЬ\n",
        "\n"
      ]
    },
    {
      "cell_type": "code",
      "execution_count": 170,
      "metadata": {
        "collapsed": true,
        "jupyter": {
          "outputs_hidden": true
        },
        "id": "x3ZDgFbx644k"
      },
      "outputs": [],
      "source": []
    },
    {
      "cell_type": "code",
      "execution_count": 170,
      "metadata": {
        "collapsed": true,
        "jupyter": {
          "outputs_hidden": true
        },
        "id": "ikyJYa-X644k"
      },
      "outputs": [],
      "source": []
    }
  ],
  "metadata": {
    "anaconda-cloud": {},
    "kernelspec": {
      "display_name": "Python 3 (ipykernel)",
      "language": "python",
      "name": "python3"
    },
    "language_info": {
      "codemirror_mode": {
        "name": "ipython",
        "version": 3
      },
      "file_extension": ".py",
      "mimetype": "text/x-python",
      "name": "python",
      "nbconvert_exporter": "python",
      "pygments_lexer": "ipython3",
      "version": "3.11.6"
    },
    "colab": {
      "provenance": []
    }
  },
  "nbformat": 4,
  "nbformat_minor": 0
}